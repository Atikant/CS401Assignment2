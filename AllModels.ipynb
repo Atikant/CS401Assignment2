{
 "cells": [
  {
   "cell_type": "code",
   "execution_count": 1,
   "metadata": {
    "id": "bEqu3xflDpxr"
   },
   "outputs": [],
   "source": [
    "#importing all the packages required for the Assignment\n",
    "import pandas as pd\n",
    "import numpy as np\n",
    "from sklearn.model_selection import train_test_split\n",
    "from sklearn.linear_model import LogisticRegression\n",
    "from sklearn.metrics import accuracy_score, classification_report\n",
    "from sklearn.ensemble import RandomForestClassifier\n",
    "from sklearn.decomposition import PCA\n",
    "from sklearn.svm import SVC\n",
    "from sklearn.pipeline import make_pipeline\n",
    "from sklearn.preprocessing import StandardScaler\n",
    "from keras.models import Sequential\n",
    "from keras.layers import Dense\n",
    "from sklearn.model_selection import train_test_split\n",
    "import matplotlib.pyplot as plt\n",
    "plt.style.use('fivethirtyeight')\n",
    "from keras.callbacks import EarlyStopping\n",
    "from sklearn import preprocessing\n",
    "min_max_scaler = preprocessing.MinMaxScaler()"
   ]
  },
  {
   "cell_type": "code",
   "execution_count": 2,
   "metadata": {
    "colab": {
     "base_uri": "https://localhost:8080/",
     "height": 73,
     "resources": {
      "http://localhost:8080/nbextensions/google.colab/files.js": {
       "data": "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",
       "headers": [
        [
         "content-type",
         "application/javascript"
        ]
       ],
       "ok": true,
       "status": 200,
       "status_text": ""
      }
     }
    },
    "id": "Xf3bX0OyDpyA",
    "outputId": "bf6d5ba9-dd7a-404b-ffb6-e5ce1439fd8c"
   },
   "outputs": [
    {
     "data": {
      "text/html": [
       "<div>\n",
       "<style scoped>\n",
       "    .dataframe tbody tr th:only-of-type {\n",
       "        vertical-align: middle;\n",
       "    }\n",
       "\n",
       "    .dataframe tbody tr th {\n",
       "        vertical-align: top;\n",
       "    }\n",
       "\n",
       "    .dataframe thead th {\n",
       "        text-align: right;\n",
       "    }\n",
       "</style>\n",
       "<table border=\"1\" class=\"dataframe\">\n",
       "  <thead>\n",
       "    <tr style=\"text-align: right;\">\n",
       "      <th></th>\n",
       "      <th>0</th>\n",
       "      <th>1</th>\n",
       "      <th>2</th>\n",
       "      <th>3</th>\n",
       "      <th>4</th>\n",
       "      <th>5</th>\n",
       "      <th>6</th>\n",
       "      <th>7</th>\n",
       "      <th>8</th>\n",
       "      <th>9</th>\n",
       "      <th>10</th>\n",
       "      <th>11</th>\n",
       "      <th>12</th>\n",
       "    </tr>\n",
       "  </thead>\n",
       "  <tbody>\n",
       "    <tr>\n",
       "      <th>0</th>\n",
       "      <td>1.830433</td>\n",
       "      <td>1.494298</td>\n",
       "      <td>-2.141080</td>\n",
       "      <td>-2.155460</td>\n",
       "      <td>0.270127</td>\n",
       "      <td>-0.200620</td>\n",
       "      <td>0.093839</td>\n",
       "      <td>1.171075</td>\n",
       "      <td>1.403914</td>\n",
       "      <td>1.396813</td>\n",
       "      <td>-1.544217</td>\n",
       "      <td>1.676625</td>\n",
       "      <td>0</td>\n",
       "    </tr>\n",
       "    <tr>\n",
       "      <th>1</th>\n",
       "      <td>-1.408457</td>\n",
       "      <td>-2.556497</td>\n",
       "      <td>2.616034</td>\n",
       "      <td>3.000666</td>\n",
       "      <td>1.154949</td>\n",
       "      <td>0.288982</td>\n",
       "      <td>-0.404475</td>\n",
       "      <td>-3.067904</td>\n",
       "      <td>-0.783279</td>\n",
       "      <td>-0.588727</td>\n",
       "      <td>4.597042</td>\n",
       "      <td>-0.110411</td>\n",
       "      <td>1</td>\n",
       "    </tr>\n",
       "    <tr>\n",
       "      <th>2</th>\n",
       "      <td>1.760458</td>\n",
       "      <td>4.608794</td>\n",
       "      <td>-0.142573</td>\n",
       "      <td>1.472204</td>\n",
       "      <td>-3.849782</td>\n",
       "      <td>1.473854</td>\n",
       "      <td>-1.868692</td>\n",
       "      <td>-0.640403</td>\n",
       "      <td>0.538785</td>\n",
       "      <td>2.146118</td>\n",
       "      <td>3.052427</td>\n",
       "      <td>0.949428</td>\n",
       "      <td>1</td>\n",
       "    </tr>\n",
       "    <tr>\n",
       "      <th>3</th>\n",
       "      <td>-1.731262</td>\n",
       "      <td>0.231366</td>\n",
       "      <td>2.911554</td>\n",
       "      <td>0.163478</td>\n",
       "      <td>1.402251</td>\n",
       "      <td>-1.244460</td>\n",
       "      <td>0.827515</td>\n",
       "      <td>-2.875059</td>\n",
       "      <td>-0.323246</td>\n",
       "      <td>0.520745</td>\n",
       "      <td>-0.205174</td>\n",
       "      <td>-1.499808</td>\n",
       "      <td>1</td>\n",
       "    </tr>\n",
       "    <tr>\n",
       "      <th>4</th>\n",
       "      <td>1.333824</td>\n",
       "      <td>-1.561848</td>\n",
       "      <td>2.408792</td>\n",
       "      <td>0.433006</td>\n",
       "      <td>0.477863</td>\n",
       "      <td>-1.966526</td>\n",
       "      <td>1.684337</td>\n",
       "      <td>-1.867530</td>\n",
       "      <td>2.521149</td>\n",
       "      <td>-3.183390</td>\n",
       "      <td>5.744132</td>\n",
       "      <td>-1.597498</td>\n",
       "      <td>0</td>\n",
       "    </tr>\n",
       "  </tbody>\n",
       "</table>\n",
       "</div>"
      ],
      "text/plain": [
       "         0         1         2         3         4         5         6   \\\n",
       "0  1.830433  1.494298 -2.141080 -2.155460  0.270127 -0.200620  0.093839   \n",
       "1 -1.408457 -2.556497  2.616034  3.000666  1.154949  0.288982 -0.404475   \n",
       "2  1.760458  4.608794 -0.142573  1.472204 -3.849782  1.473854 -1.868692   \n",
       "3 -1.731262  0.231366  2.911554  0.163478  1.402251 -1.244460  0.827515   \n",
       "4  1.333824 -1.561848  2.408792  0.433006  0.477863 -1.966526  1.684337   \n",
       "\n",
       "         7         8         9         10        11  12  \n",
       "0  1.171075  1.403914  1.396813 -1.544217  1.676625   0  \n",
       "1 -3.067904 -0.783279 -0.588727  4.597042 -0.110411   1  \n",
       "2 -0.640403  0.538785  2.146118  3.052427  0.949428   1  \n",
       "3 -2.875059 -0.323246  0.520745 -0.205174 -1.499808   1  \n",
       "4 -1.867530  2.521149 -3.183390  5.744132 -1.597498   0  "
      ]
     },
     "execution_count": 2,
     "metadata": {},
     "output_type": "execute_result"
    }
   ],
   "source": [
    "#reading the data set\n",
    "df = pd.read_csv(\"./train-io.txt\", header=None, delimiter=' ')\n",
    "df.head()"
   ]
  },
  {
   "cell_type": "code",
   "execution_count": 3,
   "metadata": {
    "colab": {
     "base_uri": "https://localhost:8080/",
     "height": 178
    },
    "id": "52-I0b_SDpyF",
    "outputId": "55ff2ef2-4bfb-4558-a4c7-3aebc8722287"
   },
   "outputs": [
    {
     "data": {
      "text/html": [
       "<div>\n",
       "<style scoped>\n",
       "    .dataframe tbody tr th:only-of-type {\n",
       "        vertical-align: middle;\n",
       "    }\n",
       "\n",
       "    .dataframe tbody tr th {\n",
       "        vertical-align: top;\n",
       "    }\n",
       "\n",
       "    .dataframe thead th {\n",
       "        text-align: right;\n",
       "    }\n",
       "</style>\n",
       "<table border=\"1\" class=\"dataframe\">\n",
       "  <thead>\n",
       "    <tr style=\"text-align: right;\">\n",
       "      <th></th>\n",
       "      <th>x1</th>\n",
       "      <th>x2</th>\n",
       "      <th>x3</th>\n",
       "      <th>x4</th>\n",
       "      <th>x5</th>\n",
       "      <th>x6</th>\n",
       "      <th>x7</th>\n",
       "      <th>x8</th>\n",
       "      <th>x9</th>\n",
       "      <th>x10</th>\n",
       "      <th>x11</th>\n",
       "      <th>x12</th>\n",
       "      <th>y</th>\n",
       "    </tr>\n",
       "  </thead>\n",
       "  <tbody>\n",
       "    <tr>\n",
       "      <th>0</th>\n",
       "      <td>1.830433</td>\n",
       "      <td>1.494298</td>\n",
       "      <td>-2.141080</td>\n",
       "      <td>-2.155460</td>\n",
       "      <td>0.270127</td>\n",
       "      <td>-0.200620</td>\n",
       "      <td>0.093839</td>\n",
       "      <td>1.171075</td>\n",
       "      <td>1.403914</td>\n",
       "      <td>1.396813</td>\n",
       "      <td>-1.544217</td>\n",
       "      <td>1.676625</td>\n",
       "      <td>0</td>\n",
       "    </tr>\n",
       "    <tr>\n",
       "      <th>1</th>\n",
       "      <td>-1.408457</td>\n",
       "      <td>-2.556497</td>\n",
       "      <td>2.616034</td>\n",
       "      <td>3.000666</td>\n",
       "      <td>1.154949</td>\n",
       "      <td>0.288982</td>\n",
       "      <td>-0.404475</td>\n",
       "      <td>-3.067904</td>\n",
       "      <td>-0.783279</td>\n",
       "      <td>-0.588727</td>\n",
       "      <td>4.597042</td>\n",
       "      <td>-0.110411</td>\n",
       "      <td>1</td>\n",
       "    </tr>\n",
       "    <tr>\n",
       "      <th>2</th>\n",
       "      <td>1.760458</td>\n",
       "      <td>4.608794</td>\n",
       "      <td>-0.142573</td>\n",
       "      <td>1.472204</td>\n",
       "      <td>-3.849782</td>\n",
       "      <td>1.473854</td>\n",
       "      <td>-1.868692</td>\n",
       "      <td>-0.640403</td>\n",
       "      <td>0.538785</td>\n",
       "      <td>2.146118</td>\n",
       "      <td>3.052427</td>\n",
       "      <td>0.949428</td>\n",
       "      <td>1</td>\n",
       "    </tr>\n",
       "    <tr>\n",
       "      <th>3</th>\n",
       "      <td>-1.731262</td>\n",
       "      <td>0.231366</td>\n",
       "      <td>2.911554</td>\n",
       "      <td>0.163478</td>\n",
       "      <td>1.402251</td>\n",
       "      <td>-1.244460</td>\n",
       "      <td>0.827515</td>\n",
       "      <td>-2.875059</td>\n",
       "      <td>-0.323246</td>\n",
       "      <td>0.520745</td>\n",
       "      <td>-0.205174</td>\n",
       "      <td>-1.499808</td>\n",
       "      <td>1</td>\n",
       "    </tr>\n",
       "    <tr>\n",
       "      <th>4</th>\n",
       "      <td>1.333824</td>\n",
       "      <td>-1.561848</td>\n",
       "      <td>2.408792</td>\n",
       "      <td>0.433006</td>\n",
       "      <td>0.477863</td>\n",
       "      <td>-1.966526</td>\n",
       "      <td>1.684337</td>\n",
       "      <td>-1.867530</td>\n",
       "      <td>2.521149</td>\n",
       "      <td>-3.183390</td>\n",
       "      <td>5.744132</td>\n",
       "      <td>-1.597498</td>\n",
       "      <td>0</td>\n",
       "    </tr>\n",
       "  </tbody>\n",
       "</table>\n",
       "</div>"
      ],
      "text/plain": [
       "         x1        x2        x3        x4        x5        x6        x7  \\\n",
       "0  1.830433  1.494298 -2.141080 -2.155460  0.270127 -0.200620  0.093839   \n",
       "1 -1.408457 -2.556497  2.616034  3.000666  1.154949  0.288982 -0.404475   \n",
       "2  1.760458  4.608794 -0.142573  1.472204 -3.849782  1.473854 -1.868692   \n",
       "3 -1.731262  0.231366  2.911554  0.163478  1.402251 -1.244460  0.827515   \n",
       "4  1.333824 -1.561848  2.408792  0.433006  0.477863 -1.966526  1.684337   \n",
       "\n",
       "         x8        x9       x10       x11       x12  y  \n",
       "0  1.171075  1.403914  1.396813 -1.544217  1.676625  0  \n",
       "1 -3.067904 -0.783279 -0.588727  4.597042 -0.110411  1  \n",
       "2 -0.640403  0.538785  2.146118  3.052427  0.949428  1  \n",
       "3 -2.875059 -0.323246  0.520745 -0.205174 -1.499808  1  \n",
       "4 -1.867530  2.521149 -3.183390  5.744132 -1.597498  0  "
      ]
     },
     "execution_count": 3,
     "metadata": {},
     "output_type": "execute_result"
    }
   ],
   "source": [
    "# rename all columns\n",
    "df.columns = [f\"x{i}\" for i in range(1, 13)] + ['y']\n",
    "df.head()"
   ]
  },
  {
   "cell_type": "code",
   "execution_count": 4,
   "metadata": {},
   "outputs": [
    {
     "data": {
      "text/plain": [
       "x1     0\n",
       "x2     0\n",
       "x3     0\n",
       "x4     0\n",
       "x5     0\n",
       "x6     0\n",
       "x7     0\n",
       "x8     0\n",
       "x9     0\n",
       "x10    0\n",
       "x11    0\n",
       "x12    0\n",
       "y      0\n",
       "dtype: int64"
      ]
     },
     "execution_count": 4,
     "metadata": {},
     "output_type": "execute_result"
    }
   ],
   "source": [
    "# checking for null values\n",
    "df.isnull().sum()"
   ]
  },
  {
   "cell_type": "code",
   "execution_count": 5,
   "metadata": {
    "colab": {
     "base_uri": "https://localhost:8080/"
    },
    "id": "BuWR5hfdDpyH",
    "outputId": "23084911-a316-480c-ee6d-80e1bc7b4cbd"
   },
   "outputs": [
    {
     "data": {
      "text/plain": [
       "1    161077\n",
       "0    138923\n",
       "Name: y, dtype: int64"
      ]
     },
     "execution_count": 5,
     "metadata": {},
     "output_type": "execute_result"
    }
   ],
   "source": [
    "#checking if the dataset is balanced or not\n",
    "df.y.value_counts()"
   ]
  },
  {
   "cell_type": "code",
   "execution_count": 6,
   "metadata": {},
   "outputs": [
    {
     "data": {
      "text/html": [
       "<style  type=\"text/css\" >\n",
       "#T_1e42244e_414b_11eb_9df9_60f262b65606row0_col0,#T_1e42244e_414b_11eb_9df9_60f262b65606row1_col1,#T_1e42244e_414b_11eb_9df9_60f262b65606row2_col2,#T_1e42244e_414b_11eb_9df9_60f262b65606row3_col3,#T_1e42244e_414b_11eb_9df9_60f262b65606row4_col4,#T_1e42244e_414b_11eb_9df9_60f262b65606row5_col5,#T_1e42244e_414b_11eb_9df9_60f262b65606row6_col6,#T_1e42244e_414b_11eb_9df9_60f262b65606row7_col7,#T_1e42244e_414b_11eb_9df9_60f262b65606row8_col8,#T_1e42244e_414b_11eb_9df9_60f262b65606row9_col9,#T_1e42244e_414b_11eb_9df9_60f262b65606row10_col10,#T_1e42244e_414b_11eb_9df9_60f262b65606row11_col11,#T_1e42244e_414b_11eb_9df9_60f262b65606row12_col12{\n",
       "            background-color:  #b40426;\n",
       "            color:  #f1f1f1;\n",
       "        }#T_1e42244e_414b_11eb_9df9_60f262b65606row0_col1,#T_1e42244e_414b_11eb_9df9_60f262b65606row3_col1,#T_1e42244e_414b_11eb_9df9_60f262b65606row12_col3{\n",
       "            background-color:  #8db0fe;\n",
       "            color:  #000000;\n",
       "        }#T_1e42244e_414b_11eb_9df9_60f262b65606row0_col2,#T_1e42244e_414b_11eb_9df9_60f262b65606row9_col4{\n",
       "            background-color:  #6180e9;\n",
       "            color:  #000000;\n",
       "        }#T_1e42244e_414b_11eb_9df9_60f262b65606row0_col3,#T_1e42244e_414b_11eb_9df9_60f262b65606row5_col9,#T_1e42244e_414b_11eb_9df9_60f262b65606row7_col5{\n",
       "            background-color:  #b3cdfb;\n",
       "            color:  #000000;\n",
       "        }#T_1e42244e_414b_11eb_9df9_60f262b65606row0_col4,#T_1e42244e_414b_11eb_9df9_60f262b65606row6_col9,#T_1e42244e_414b_11eb_9df9_60f262b65606row7_col4,#T_1e42244e_414b_11eb_9df9_60f262b65606row7_col9{\n",
       "            background-color:  #98b9ff;\n",
       "            color:  #000000;\n",
       "        }#T_1e42244e_414b_11eb_9df9_60f262b65606row0_col5,#T_1e42244e_414b_11eb_9df9_60f262b65606row11_col5{\n",
       "            background-color:  #92b4fe;\n",
       "            color:  #000000;\n",
       "        }#T_1e42244e_414b_11eb_9df9_60f262b65606row0_col6,#T_1e42244e_414b_11eb_9df9_60f262b65606row0_col12,#T_1e42244e_414b_11eb_9df9_60f262b65606row1_col4,#T_1e42244e_414b_11eb_9df9_60f262b65606row1_col12,#T_1e42244e_414b_11eb_9df9_60f262b65606row2_col0,#T_1e42244e_414b_11eb_9df9_60f262b65606row2_col11,#T_1e42244e_414b_11eb_9df9_60f262b65606row2_col12,#T_1e42244e_414b_11eb_9df9_60f262b65606row4_col1,#T_1e42244e_414b_11eb_9df9_60f262b65606row4_col5,#T_1e42244e_414b_11eb_9df9_60f262b65606row4_col12,#T_1e42244e_414b_11eb_9df9_60f262b65606row5_col12,#T_1e42244e_414b_11eb_9df9_60f262b65606row6_col12,#T_1e42244e_414b_11eb_9df9_60f262b65606row7_col2,#T_1e42244e_414b_11eb_9df9_60f262b65606row7_col3,#T_1e42244e_414b_11eb_9df9_60f262b65606row7_col10,#T_1e42244e_414b_11eb_9df9_60f262b65606row7_col12,#T_1e42244e_414b_11eb_9df9_60f262b65606row8_col9,#T_1e42244e_414b_11eb_9df9_60f262b65606row8_col12,#T_1e42244e_414b_11eb_9df9_60f262b65606row9_col8,#T_1e42244e_414b_11eb_9df9_60f262b65606row9_col12,#T_1e42244e_414b_11eb_9df9_60f262b65606row10_col7,#T_1e42244e_414b_11eb_9df9_60f262b65606row10_col12,#T_1e42244e_414b_11eb_9df9_60f262b65606row11_col12{\n",
       "            background-color:  #3b4cc0;\n",
       "            color:  #f1f1f1;\n",
       "        }#T_1e42244e_414b_11eb_9df9_60f262b65606row0_col7,#T_1e42244e_414b_11eb_9df9_60f262b65606row4_col11,#T_1e42244e_414b_11eb_9df9_60f262b65606row10_col2{\n",
       "            background-color:  #e0dbd8;\n",
       "            color:  #000000;\n",
       "        }#T_1e42244e_414b_11eb_9df9_60f262b65606row0_col8{\n",
       "            background-color:  #f6bda2;\n",
       "            color:  #000000;\n",
       "        }#T_1e42244e_414b_11eb_9df9_60f262b65606row0_col9,#T_1e42244e_414b_11eb_9df9_60f262b65606row1_col0{\n",
       "            background-color:  #6c8ff1;\n",
       "            color:  #000000;\n",
       "        }#T_1e42244e_414b_11eb_9df9_60f262b65606row0_col10{\n",
       "            background-color:  #f2c9b4;\n",
       "            color:  #000000;\n",
       "        }#T_1e42244e_414b_11eb_9df9_60f262b65606row0_col11{\n",
       "            background-color:  #efcfbf;\n",
       "            color:  #000000;\n",
       "        }#T_1e42244e_414b_11eb_9df9_60f262b65606row1_col2{\n",
       "            background-color:  #89acfd;\n",
       "            color:  #000000;\n",
       "        }#T_1e42244e_414b_11eb_9df9_60f262b65606row1_col3,#T_1e42244e_414b_11eb_9df9_60f262b65606row3_col7,#T_1e42244e_414b_11eb_9df9_60f262b65606row3_col11{\n",
       "            background-color:  #6b8df0;\n",
       "            color:  #000000;\n",
       "        }#T_1e42244e_414b_11eb_9df9_60f262b65606row1_col5,#T_1e42244e_414b_11eb_9df9_60f262b65606row4_col7,#T_1e42244e_414b_11eb_9df9_60f262b65606row6_col10{\n",
       "            background-color:  #a2c1ff;\n",
       "            color:  #000000;\n",
       "        }#T_1e42244e_414b_11eb_9df9_60f262b65606row1_col6{\n",
       "            background-color:  #7093f3;\n",
       "            color:  #000000;\n",
       "        }#T_1e42244e_414b_11eb_9df9_60f262b65606row1_col7,#T_1e42244e_414b_11eb_9df9_60f262b65606row2_col10,#T_1e42244e_414b_11eb_9df9_60f262b65606row8_col4{\n",
       "            background-color:  #e3d9d3;\n",
       "            color:  #000000;\n",
       "        }#T_1e42244e_414b_11eb_9df9_60f262b65606row1_col8{\n",
       "            background-color:  #7597f6;\n",
       "            color:  #000000;\n",
       "        }#T_1e42244e_414b_11eb_9df9_60f262b65606row1_col9{\n",
       "            background-color:  #f5c0a7;\n",
       "            color:  #000000;\n",
       "        }#T_1e42244e_414b_11eb_9df9_60f262b65606row1_col10,#T_1e42244e_414b_11eb_9df9_60f262b65606row9_col0{\n",
       "            background-color:  #5d7ce6;\n",
       "            color:  #000000;\n",
       "        }#T_1e42244e_414b_11eb_9df9_60f262b65606row1_col11,#T_1e42244e_414b_11eb_9df9_60f262b65606row4_col9{\n",
       "            background-color:  #4e68d8;\n",
       "            color:  #000000;\n",
       "        }#T_1e42244e_414b_11eb_9df9_60f262b65606row2_col1{\n",
       "            background-color:  #85a8fc;\n",
       "            color:  #000000;\n",
       "        }#T_1e42244e_414b_11eb_9df9_60f262b65606row2_col3,#T_1e42244e_414b_11eb_9df9_60f262b65606row12_col6{\n",
       "            background-color:  #81a4fb;\n",
       "            color:  #000000;\n",
       "        }#T_1e42244e_414b_11eb_9df9_60f262b65606row2_col4{\n",
       "            background-color:  #a3c2fe;\n",
       "            color:  #000000;\n",
       "        }#T_1e42244e_414b_11eb_9df9_60f262b65606row2_col5,#T_1e42244e_414b_11eb_9df9_60f262b65606row3_col9{\n",
       "            background-color:  #9bbcff;\n",
       "            color:  #000000;\n",
       "        }#T_1e42244e_414b_11eb_9df9_60f262b65606row2_col6{\n",
       "            background-color:  #b6cefa;\n",
       "            color:  #000000;\n",
       "        }#T_1e42244e_414b_11eb_9df9_60f262b65606row2_col7{\n",
       "            background-color:  #4257c9;\n",
       "            color:  #f1f1f1;\n",
       "        }#T_1e42244e_414b_11eb_9df9_60f262b65606row2_col8,#T_1e42244e_414b_11eb_9df9_60f262b65606row6_col8,#T_1e42244e_414b_11eb_9df9_60f262b65606row9_col11{\n",
       "            background-color:  #cdd9ec;\n",
       "            color:  #000000;\n",
       "        }#T_1e42244e_414b_11eb_9df9_60f262b65606row2_col9{\n",
       "            background-color:  #3d50c3;\n",
       "            color:  #f1f1f1;\n",
       "        }#T_1e42244e_414b_11eb_9df9_60f262b65606row3_col0,#T_1e42244e_414b_11eb_9df9_60f262b65606row12_col7,#T_1e42244e_414b_11eb_9df9_60f262b65606row12_col10{\n",
       "            background-color:  #b5cdfa;\n",
       "            color:  #000000;\n",
       "        }#T_1e42244e_414b_11eb_9df9_60f262b65606row3_col2,#T_1e42244e_414b_11eb_9df9_60f262b65606row5_col2{\n",
       "            background-color:  #a5c3fe;\n",
       "            color:  #000000;\n",
       "        }#T_1e42244e_414b_11eb_9df9_60f262b65606row3_col4,#T_1e42244e_414b_11eb_9df9_60f262b65606row6_col1,#T_1e42244e_414b_11eb_9df9_60f262b65606row10_col4{\n",
       "            background-color:  #9ebeff;\n",
       "            color:  #000000;\n",
       "        }#T_1e42244e_414b_11eb_9df9_60f262b65606row3_col5{\n",
       "            background-color:  #e1dad6;\n",
       "            color:  #000000;\n",
       "        }#T_1e42244e_414b_11eb_9df9_60f262b65606row3_col6{\n",
       "            background-color:  #4961d2;\n",
       "            color:  #f1f1f1;\n",
       "        }#T_1e42244e_414b_11eb_9df9_60f262b65606row3_col8,#T_1e42244e_414b_11eb_9df9_60f262b65606row5_col6{\n",
       "            background-color:  #82a6fb;\n",
       "            color:  #000000;\n",
       "        }#T_1e42244e_414b_11eb_9df9_60f262b65606row3_col10{\n",
       "            background-color:  #f6a385;\n",
       "            color:  #000000;\n",
       "        }#T_1e42244e_414b_11eb_9df9_60f262b65606row3_col12{\n",
       "            background-color:  #3c4ec2;\n",
       "            color:  #f1f1f1;\n",
       "        }#T_1e42244e_414b_11eb_9df9_60f262b65606row4_col0,#T_1e42244e_414b_11eb_9df9_60f262b65606row8_col5{\n",
       "            background-color:  #799cf8;\n",
       "            color:  #000000;\n",
       "        }#T_1e42244e_414b_11eb_9df9_60f262b65606row4_col2,#T_1e42244e_414b_11eb_9df9_60f262b65606row6_col5,#T_1e42244e_414b_11eb_9df9_60f262b65606row12_col5{\n",
       "            background-color:  #a6c4fe;\n",
       "            color:  #000000;\n",
       "        }#T_1e42244e_414b_11eb_9df9_60f262b65606row4_col3{\n",
       "            background-color:  #7da0f9;\n",
       "            color:  #000000;\n",
       "        }#T_1e42244e_414b_11eb_9df9_60f262b65606row4_col6{\n",
       "            background-color:  #bfd3f6;\n",
       "            color:  #000000;\n",
       "        }#T_1e42244e_414b_11eb_9df9_60f262b65606row4_col8{\n",
       "            background-color:  #dbdcde;\n",
       "            color:  #000000;\n",
       "        }#T_1e42244e_414b_11eb_9df9_60f262b65606row4_col10{\n",
       "            background-color:  #a9c6fd;\n",
       "            color:  #000000;\n",
       "        }#T_1e42244e_414b_11eb_9df9_60f262b65606row5_col0{\n",
       "            background-color:  #779af7;\n",
       "            color:  #000000;\n",
       "        }#T_1e42244e_414b_11eb_9df9_60f262b65606row5_col1,#T_1e42244e_414b_11eb_9df9_60f262b65606row6_col7{\n",
       "            background-color:  #a7c5fe;\n",
       "            color:  #000000;\n",
       "        }#T_1e42244e_414b_11eb_9df9_60f262b65606row5_col3{\n",
       "            background-color:  #d4dbe6;\n",
       "            color:  #000000;\n",
       "        }#T_1e42244e_414b_11eb_9df9_60f262b65606row5_col4{\n",
       "            background-color:  #4055c8;\n",
       "            color:  #f1f1f1;\n",
       "        }#T_1e42244e_414b_11eb_9df9_60f262b65606row5_col7{\n",
       "            background-color:  #c0d4f5;\n",
       "            color:  #000000;\n",
       "        }#T_1e42244e_414b_11eb_9df9_60f262b65606row5_col8,#T_1e42244e_414b_11eb_9df9_60f262b65606row9_col10{\n",
       "            background-color:  #6e90f2;\n",
       "            color:  #000000;\n",
       "        }#T_1e42244e_414b_11eb_9df9_60f262b65606row5_col10{\n",
       "            background-color:  #bcd2f7;\n",
       "            color:  #000000;\n",
       "        }#T_1e42244e_414b_11eb_9df9_60f262b65606row5_col11{\n",
       "            background-color:  #80a3fa;\n",
       "            color:  #000000;\n",
       "        }#T_1e42244e_414b_11eb_9df9_60f262b65606row6_col0{\n",
       "            background-color:  #485fd1;\n",
       "            color:  #f1f1f1;\n",
       "        }#T_1e42244e_414b_11eb_9df9_60f262b65606row6_col2{\n",
       "            background-color:  #d6dce4;\n",
       "            color:  #000000;\n",
       "        }#T_1e42244e_414b_11eb_9df9_60f262b65606row6_col3,#T_1e42244e_414b_11eb_9df9_60f262b65606row9_col2{\n",
       "            background-color:  #5470de;\n",
       "            color:  #000000;\n",
       "        }#T_1e42244e_414b_11eb_9df9_60f262b65606row6_col4{\n",
       "            background-color:  #dadce0;\n",
       "            color:  #000000;\n",
       "        }#T_1e42244e_414b_11eb_9df9_60f262b65606row6_col11{\n",
       "            background-color:  #88abfd;\n",
       "            color:  #000000;\n",
       "        }#T_1e42244e_414b_11eb_9df9_60f262b65606row7_col0{\n",
       "            background-color:  #c9d7f0;\n",
       "            color:  #000000;\n",
       "        }#T_1e42244e_414b_11eb_9df9_60f262b65606row7_col1{\n",
       "            background-color:  #dedcdb;\n",
       "            color:  #000000;\n",
       "        }#T_1e42244e_414b_11eb_9df9_60f262b65606row7_col6,#T_1e42244e_414b_11eb_9df9_60f262b65606row8_col3{\n",
       "            background-color:  #7295f4;\n",
       "            color:  #000000;\n",
       "        }#T_1e42244e_414b_11eb_9df9_60f262b65606row7_col8{\n",
       "            background-color:  #84a7fc;\n",
       "            color:  #000000;\n",
       "        }#T_1e42244e_414b_11eb_9df9_60f262b65606row7_col11,#T_1e42244e_414b_11eb_9df9_60f262b65606row10_col5,#T_1e42244e_414b_11eb_9df9_60f262b65606row12_col2{\n",
       "            background-color:  #afcafc;\n",
       "            color:  #000000;\n",
       "        }#T_1e42244e_414b_11eb_9df9_60f262b65606row8_col0{\n",
       "            background-color:  #f5c2aa;\n",
       "            color:  #000000;\n",
       "        }#T_1e42244e_414b_11eb_9df9_60f262b65606row8_col1{\n",
       "            background-color:  #86a9fc;\n",
       "            color:  #000000;\n",
       "        }#T_1e42244e_414b_11eb_9df9_60f262b65606row8_col2{\n",
       "            background-color:  #d9dce1;\n",
       "            color:  #000000;\n",
       "        }#T_1e42244e_414b_11eb_9df9_60f262b65606row8_col6,#T_1e42244e_414b_11eb_9df9_60f262b65606row9_col5{\n",
       "            background-color:  #bbd1f8;\n",
       "            color:  #000000;\n",
       "        }#T_1e42244e_414b_11eb_9df9_60f262b65606row8_col7{\n",
       "            background-color:  #9fbfff;\n",
       "            color:  #000000;\n",
       "        }#T_1e42244e_414b_11eb_9df9_60f262b65606row8_col10{\n",
       "            background-color:  #e9d5cb;\n",
       "            color:  #000000;\n",
       "        }#T_1e42244e_414b_11eb_9df9_60f262b65606row8_col11{\n",
       "            background-color:  #ead5c9;\n",
       "            color:  #000000;\n",
       "        }#T_1e42244e_414b_11eb_9df9_60f262b65606row9_col1{\n",
       "            background-color:  #f7b99e;\n",
       "            color:  #000000;\n",
       "        }#T_1e42244e_414b_11eb_9df9_60f262b65606row9_col3{\n",
       "            background-color:  #8badfd;\n",
       "            color:  #000000;\n",
       "        }#T_1e42244e_414b_11eb_9df9_60f262b65606row9_col6{\n",
       "            background-color:  #7ea1fa;\n",
       "            color:  #000000;\n",
       "        }#T_1e42244e_414b_11eb_9df9_60f262b65606row9_col7{\n",
       "            background-color:  #b2ccfb;\n",
       "            color:  #000000;\n",
       "        }#T_1e42244e_414b_11eb_9df9_60f262b65606row10_col0{\n",
       "            background-color:  #e6d7cf;\n",
       "            color:  #000000;\n",
       "        }#T_1e42244e_414b_11eb_9df9_60f262b65606row10_col1{\n",
       "            background-color:  #516ddb;\n",
       "            color:  #000000;\n",
       "        }#T_1e42244e_414b_11eb_9df9_60f262b65606row10_col3{\n",
       "            background-color:  #f7b497;\n",
       "            color:  #000000;\n",
       "        }#T_1e42244e_414b_11eb_9df9_60f262b65606row10_col6{\n",
       "            background-color:  #6a8bef;\n",
       "            color:  #000000;\n",
       "        }#T_1e42244e_414b_11eb_9df9_60f262b65606row10_col8{\n",
       "            background-color:  #dcdddd;\n",
       "            color:  #000000;\n",
       "        }#T_1e42244e_414b_11eb_9df9_60f262b65606row10_col9{\n",
       "            background-color:  #4f69d9;\n",
       "            color:  #000000;\n",
       "        }#T_1e42244e_414b_11eb_9df9_60f262b65606row10_col11,#T_1e42244e_414b_11eb_9df9_60f262b65606row12_col1,#T_1e42244e_414b_11eb_9df9_60f262b65606row12_col4{\n",
       "            background-color:  #abc8fd;\n",
       "            color:  #000000;\n",
       "        }#T_1e42244e_414b_11eb_9df9_60f262b65606row11_col0{\n",
       "            background-color:  #edd2c3;\n",
       "            color:  #000000;\n",
       "        }#T_1e42244e_414b_11eb_9df9_60f262b65606row11_col1{\n",
       "            background-color:  #688aef;\n",
       "            color:  #000000;\n",
       "        }#T_1e42244e_414b_11eb_9df9_60f262b65606row11_col2{\n",
       "            background-color:  #5a78e4;\n",
       "            color:  #000000;\n",
       "        }#T_1e42244e_414b_11eb_9df9_60f262b65606row11_col3{\n",
       "            background-color:  #6282ea;\n",
       "            color:  #000000;\n",
       "        }#T_1e42244e_414b_11eb_9df9_60f262b65606row11_col4{\n",
       "            background-color:  #ead4c8;\n",
       "            color:  #000000;\n",
       "        }#T_1e42244e_414b_11eb_9df9_60f262b65606row11_col6{\n",
       "            background-color:  #7396f5;\n",
       "            color:  #000000;\n",
       "        }#T_1e42244e_414b_11eb_9df9_60f262b65606row11_col7{\n",
       "            background-color:  #cad8ef;\n",
       "            color:  #000000;\n",
       "        }#T_1e42244e_414b_11eb_9df9_60f262b65606row11_col8{\n",
       "            background-color:  #ecd3c5;\n",
       "            color:  #000000;\n",
       "        }#T_1e42244e_414b_11eb_9df9_60f262b65606row11_col9{\n",
       "            background-color:  #d2dbe8;\n",
       "            color:  #000000;\n",
       "        }#T_1e42244e_414b_11eb_9df9_60f262b65606row11_col10{\n",
       "            background-color:  #c6d6f1;\n",
       "            color:  #000000;\n",
       "        }#T_1e42244e_414b_11eb_9df9_60f262b65606row12_col0{\n",
       "            background-color:  #8fb1fe;\n",
       "            color:  #000000;\n",
       "        }#T_1e42244e_414b_11eb_9df9_60f262b65606row12_col8,#T_1e42244e_414b_11eb_9df9_60f262b65606row12_col9{\n",
       "            background-color:  #9dbdff;\n",
       "            color:  #000000;\n",
       "        }#T_1e42244e_414b_11eb_9df9_60f262b65606row12_col11{\n",
       "            background-color:  #94b6ff;\n",
       "            color:  #000000;\n",
       "        }</style><table id=\"T_1e42244e_414b_11eb_9df9_60f262b65606\" ><thead>    <tr>        <th class=\"blank level0\" ></th>        <th class=\"col_heading level0 col0\" >x1</th>        <th class=\"col_heading level0 col1\" >x2</th>        <th class=\"col_heading level0 col2\" >x3</th>        <th class=\"col_heading level0 col3\" >x4</th>        <th class=\"col_heading level0 col4\" >x5</th>        <th class=\"col_heading level0 col5\" >x6</th>        <th class=\"col_heading level0 col6\" >x7</th>        <th class=\"col_heading level0 col7\" >x8</th>        <th class=\"col_heading level0 col8\" >x9</th>        <th class=\"col_heading level0 col9\" >x10</th>        <th class=\"col_heading level0 col10\" >x11</th>        <th class=\"col_heading level0 col11\" >x12</th>        <th class=\"col_heading level0 col12\" >y</th>    </tr></thead><tbody>\n",
       "                <tr>\n",
       "                        <th id=\"T_1e42244e_414b_11eb_9df9_60f262b65606level0_row0\" class=\"row_heading level0 row0\" >x1</th>\n",
       "                        <td id=\"T_1e42244e_414b_11eb_9df9_60f262b65606row0_col0\" class=\"data row0 col0\" >1.000000</td>\n",
       "                        <td id=\"T_1e42244e_414b_11eb_9df9_60f262b65606row0_col1\" class=\"data row0 col1\" >-0.128330</td>\n",
       "                        <td id=\"T_1e42244e_414b_11eb_9df9_60f262b65606row0_col2\" class=\"data row0 col2\" >-0.343222</td>\n",
       "                        <td id=\"T_1e42244e_414b_11eb_9df9_60f262b65606row0_col3\" class=\"data row0 col3\" >0.148338</td>\n",
       "                        <td id=\"T_1e42244e_414b_11eb_9df9_60f262b65606row0_col4\" class=\"data row0 col4\" >-0.082265</td>\n",
       "                        <td id=\"T_1e42244e_414b_11eb_9df9_60f262b65606row0_col5\" class=\"data row0 col5\" >-0.088297</td>\n",
       "                        <td id=\"T_1e42244e_414b_11eb_9df9_60f262b65606row0_col6\" class=\"data row0 col6\" >-0.281078</td>\n",
       "                        <td id=\"T_1e42244e_414b_11eb_9df9_60f262b65606row0_col7\" class=\"data row0 col7\" >0.233454</td>\n",
       "                        <td id=\"T_1e42244e_414b_11eb_9df9_60f262b65606row0_col8\" class=\"data row0 col8\" >0.503309</td>\n",
       "                        <td id=\"T_1e42244e_414b_11eb_9df9_60f262b65606row0_col9\" class=\"data row0 col9\" >-0.191495</td>\n",
       "                        <td id=\"T_1e42244e_414b_11eb_9df9_60f262b65606row0_col10\" class=\"data row0 col10\" >0.378637</td>\n",
       "                        <td id=\"T_1e42244e_414b_11eb_9df9_60f262b65606row0_col11\" class=\"data row0 col11\" >0.422265</td>\n",
       "                        <td id=\"T_1e42244e_414b_11eb_9df9_60f262b65606row0_col12\" class=\"data row0 col12\" >0.000826</td>\n",
       "            </tr>\n",
       "            <tr>\n",
       "                        <th id=\"T_1e42244e_414b_11eb_9df9_60f262b65606level0_row1\" class=\"row_heading level0 row1\" >x2</th>\n",
       "                        <td id=\"T_1e42244e_414b_11eb_9df9_60f262b65606row1_col0\" class=\"data row1 col0\" >-0.128330</td>\n",
       "                        <td id=\"T_1e42244e_414b_11eb_9df9_60f262b65606row1_col1\" class=\"data row1 col1\" >1.000000</td>\n",
       "                        <td id=\"T_1e42244e_414b_11eb_9df9_60f262b65606row1_col2\" class=\"data row1 col2\" >-0.167532</td>\n",
       "                        <td id=\"T_1e42244e_414b_11eb_9df9_60f262b65606row1_col3\" class=\"data row1 col3\" >-0.127688</td>\n",
       "                        <td id=\"T_1e42244e_414b_11eb_9df9_60f262b65606row1_col4\" class=\"data row1 col4\" >-0.511027</td>\n",
       "                        <td id=\"T_1e42244e_414b_11eb_9df9_60f262b65606row1_col5\" class=\"data row1 col5\" >-0.017310</td>\n",
       "                        <td id=\"T_1e42244e_414b_11eb_9df9_60f262b65606row1_col6\" class=\"data row1 col6\" >-0.061967</td>\n",
       "                        <td id=\"T_1e42244e_414b_11eb_9df9_60f262b65606row1_col7\" class=\"data row1 col7\" >0.250484</td>\n",
       "                        <td id=\"T_1e42244e_414b_11eb_9df9_60f262b65606row1_col8\" class=\"data row1 col8\" >-0.159071</td>\n",
       "                        <td id=\"T_1e42244e_414b_11eb_9df9_60f262b65606row1_col9\" class=\"data row1 col9\" >0.489932</td>\n",
       "                        <td id=\"T_1e42244e_414b_11eb_9df9_60f262b65606row1_col10\" class=\"data row1 col10\" >-0.397303</td>\n",
       "                        <td id=\"T_1e42244e_414b_11eb_9df9_60f262b65606row1_col11\" class=\"data row1 col11\" >-0.290247</td>\n",
       "                        <td id=\"T_1e42244e_414b_11eb_9df9_60f262b65606row1_col12\" class=\"data row1 col12\" >0.000459</td>\n",
       "            </tr>\n",
       "            <tr>\n",
       "                        <th id=\"T_1e42244e_414b_11eb_9df9_60f262b65606level0_row2\" class=\"row_heading level0 row2\" >x3</th>\n",
       "                        <td id=\"T_1e42244e_414b_11eb_9df9_60f262b65606row2_col0\" class=\"data row2 col0\" >-0.343222</td>\n",
       "                        <td id=\"T_1e42244e_414b_11eb_9df9_60f262b65606row2_col1\" class=\"data row2 col1\" >-0.167532</td>\n",
       "                        <td id=\"T_1e42244e_414b_11eb_9df9_60f262b65606row2_col2\" class=\"data row2 col2\" >1.000000</td>\n",
       "                        <td id=\"T_1e42244e_414b_11eb_9df9_60f262b65606row2_col3\" class=\"data row2 col3\" >-0.044367</td>\n",
       "                        <td id=\"T_1e42244e_414b_11eb_9df9_60f262b65606row2_col4\" class=\"data row2 col4\" >-0.037546</td>\n",
       "                        <td id=\"T_1e42244e_414b_11eb_9df9_60f262b65606row2_col5\" class=\"data row2 col5\" >-0.045081</td>\n",
       "                        <td id=\"T_1e42244e_414b_11eb_9df9_60f262b65606row2_col6\" class=\"data row2 col6\" >0.192856</td>\n",
       "                        <td id=\"T_1e42244e_414b_11eb_9df9_60f262b65606row2_col7\" class=\"data row2 col7\" >-0.533472</td>\n",
       "                        <td id=\"T_1e42244e_414b_11eb_9df9_60f262b65606row2_col8\" class=\"data row2 col8\" >0.211517</td>\n",
       "                        <td id=\"T_1e42244e_414b_11eb_9df9_60f262b65606row2_col9\" class=\"data row2 col9\" >-0.405843</td>\n",
       "                        <td id=\"T_1e42244e_414b_11eb_9df9_60f262b65606row2_col10\" class=\"data row2 col10\" >0.251416</td>\n",
       "                        <td id=\"T_1e42244e_414b_11eb_9df9_60f262b65606row2_col11\" class=\"data row2 col11\" >-0.376414</td>\n",
       "                        <td id=\"T_1e42244e_414b_11eb_9df9_60f262b65606row2_col12\" class=\"data row2 col12\" >0.000362</td>\n",
       "            </tr>\n",
       "            <tr>\n",
       "                        <th id=\"T_1e42244e_414b_11eb_9df9_60f262b65606level0_row3\" class=\"row_heading level0 row3\" >x4</th>\n",
       "                        <td id=\"T_1e42244e_414b_11eb_9df9_60f262b65606row3_col0\" class=\"data row3 col0\" >0.148338</td>\n",
       "                        <td id=\"T_1e42244e_414b_11eb_9df9_60f262b65606row3_col1\" class=\"data row3 col1\" >-0.127688</td>\n",
       "                        <td id=\"T_1e42244e_414b_11eb_9df9_60f262b65606row3_col2\" class=\"data row3 col2\" >-0.044367</td>\n",
       "                        <td id=\"T_1e42244e_414b_11eb_9df9_60f262b65606row3_col3\" class=\"data row3 col3\" >1.000000</td>\n",
       "                        <td id=\"T_1e42244e_414b_11eb_9df9_60f262b65606row3_col4\" class=\"data row3 col4\" >-0.058117</td>\n",
       "                        <td id=\"T_1e42244e_414b_11eb_9df9_60f262b65606row3_col5\" class=\"data row3 col5\" >0.288235</td>\n",
       "                        <td id=\"T_1e42244e_414b_11eb_9df9_60f262b65606row3_col6\" class=\"data row3 col6\" >-0.219120</td>\n",
       "                        <td id=\"T_1e42244e_414b_11eb_9df9_60f262b65606row3_col7\" class=\"data row3 col7\" >-0.333291</td>\n",
       "                        <td id=\"T_1e42244e_414b_11eb_9df9_60f262b65606row3_col8\" class=\"data row3 col8\" >-0.104060</td>\n",
       "                        <td id=\"T_1e42244e_414b_11eb_9df9_60f262b65606row3_col9\" class=\"data row3 col9\" >-0.007152</td>\n",
       "                        <td id=\"T_1e42244e_414b_11eb_9df9_60f262b65606row3_col10\" class=\"data row3 col10\" >0.568115</td>\n",
       "                        <td id=\"T_1e42244e_414b_11eb_9df9_60f262b65606row3_col11\" class=\"data row3 col11\" >-0.163343</td>\n",
       "                        <td id=\"T_1e42244e_414b_11eb_9df9_60f262b65606row3_col12\" class=\"data row3 col12\" >0.001955</td>\n",
       "            </tr>\n",
       "            <tr>\n",
       "                        <th id=\"T_1e42244e_414b_11eb_9df9_60f262b65606level0_row4\" class=\"row_heading level0 row4\" >x5</th>\n",
       "                        <td id=\"T_1e42244e_414b_11eb_9df9_60f262b65606row4_col0\" class=\"data row4 col0\" >-0.082265</td>\n",
       "                        <td id=\"T_1e42244e_414b_11eb_9df9_60f262b65606row4_col1\" class=\"data row4 col1\" >-0.511027</td>\n",
       "                        <td id=\"T_1e42244e_414b_11eb_9df9_60f262b65606row4_col2\" class=\"data row4 col2\" >-0.037546</td>\n",
       "                        <td id=\"T_1e42244e_414b_11eb_9df9_60f262b65606row4_col3\" class=\"data row4 col3\" >-0.058117</td>\n",
       "                        <td id=\"T_1e42244e_414b_11eb_9df9_60f262b65606row4_col4\" class=\"data row4 col4\" >1.000000</td>\n",
       "                        <td id=\"T_1e42244e_414b_11eb_9df9_60f262b65606row4_col5\" class=\"data row4 col5\" >-0.476623</td>\n",
       "                        <td id=\"T_1e42244e_414b_11eb_9df9_60f262b65606row4_col6\" class=\"data row4 col6\" >0.228541</td>\n",
       "                        <td id=\"T_1e42244e_414b_11eb_9df9_60f262b65606row4_col7\" class=\"data row4 col7\" >-0.084957</td>\n",
       "                        <td id=\"T_1e42244e_414b_11eb_9df9_60f262b65606row4_col8\" class=\"data row4 col8\" >0.284904</td>\n",
       "                        <td id=\"T_1e42244e_414b_11eb_9df9_60f262b65606row4_col9\" class=\"data row4 col9\" >-0.327000</td>\n",
       "                        <td id=\"T_1e42244e_414b_11eb_9df9_60f262b65606row4_col10\" class=\"data row4 col10\" >-0.058278</td>\n",
       "                        <td id=\"T_1e42244e_414b_11eb_9df9_60f262b65606row4_col11\" class=\"data row4 col11\" >0.329247</td>\n",
       "                        <td id=\"T_1e42244e_414b_11eb_9df9_60f262b65606row4_col12\" class=\"data row4 col12\" >0.001165</td>\n",
       "            </tr>\n",
       "            <tr>\n",
       "                        <th id=\"T_1e42244e_414b_11eb_9df9_60f262b65606level0_row5\" class=\"row_heading level0 row5\" >x6</th>\n",
       "                        <td id=\"T_1e42244e_414b_11eb_9df9_60f262b65606row5_col0\" class=\"data row5 col0\" >-0.088297</td>\n",
       "                        <td id=\"T_1e42244e_414b_11eb_9df9_60f262b65606row5_col1\" class=\"data row5 col1\" >-0.017310</td>\n",
       "                        <td id=\"T_1e42244e_414b_11eb_9df9_60f262b65606row5_col2\" class=\"data row5 col2\" >-0.045081</td>\n",
       "                        <td id=\"T_1e42244e_414b_11eb_9df9_60f262b65606row5_col3\" class=\"data row5 col3\" >0.288235</td>\n",
       "                        <td id=\"T_1e42244e_414b_11eb_9df9_60f262b65606row5_col4\" class=\"data row5 col4\" >-0.476623</td>\n",
       "                        <td id=\"T_1e42244e_414b_11eb_9df9_60f262b65606row5_col5\" class=\"data row5 col5\" >1.000000</td>\n",
       "                        <td id=\"T_1e42244e_414b_11eb_9df9_60f262b65606row5_col6\" class=\"data row5 col6\" >0.000063</td>\n",
       "                        <td id=\"T_1e42244e_414b_11eb_9df9_60f262b65606row5_col7\" class=\"data row5 col7\" >0.058134</td>\n",
       "                        <td id=\"T_1e42244e_414b_11eb_9df9_60f262b65606row5_col8\" class=\"data row5 col8\" >-0.188257</td>\n",
       "                        <td id=\"T_1e42244e_414b_11eb_9df9_60f262b65606row5_col9\" class=\"data row5 col9\" >0.094271</td>\n",
       "                        <td id=\"T_1e42244e_414b_11eb_9df9_60f262b65606row5_col10\" class=\"data row5 col10\" >0.038777</td>\n",
       "                        <td id=\"T_1e42244e_414b_11eb_9df9_60f262b65606row5_col11\" class=\"data row5 col11\" >-0.084539</td>\n",
       "                        <td id=\"T_1e42244e_414b_11eb_9df9_60f262b65606row5_col12\" class=\"data row5 col12\" >-0.002027</td>\n",
       "            </tr>\n",
       "            <tr>\n",
       "                        <th id=\"T_1e42244e_414b_11eb_9df9_60f262b65606level0_row6\" class=\"row_heading level0 row6\" >x7</th>\n",
       "                        <td id=\"T_1e42244e_414b_11eb_9df9_60f262b65606row6_col0\" class=\"data row6 col0\" >-0.281078</td>\n",
       "                        <td id=\"T_1e42244e_414b_11eb_9df9_60f262b65606row6_col1\" class=\"data row6 col1\" >-0.061967</td>\n",
       "                        <td id=\"T_1e42244e_414b_11eb_9df9_60f262b65606row6_col2\" class=\"data row6 col2\" >0.192856</td>\n",
       "                        <td id=\"T_1e42244e_414b_11eb_9df9_60f262b65606row6_col3\" class=\"data row6 col3\" >-0.219120</td>\n",
       "                        <td id=\"T_1e42244e_414b_11eb_9df9_60f262b65606row6_col4\" class=\"data row6 col4\" >0.228541</td>\n",
       "                        <td id=\"T_1e42244e_414b_11eb_9df9_60f262b65606row6_col5\" class=\"data row6 col5\" >0.000063</td>\n",
       "                        <td id=\"T_1e42244e_414b_11eb_9df9_60f262b65606row6_col6\" class=\"data row6 col6\" >1.000000</td>\n",
       "                        <td id=\"T_1e42244e_414b_11eb_9df9_60f262b65606row6_col7\" class=\"data row6 col7\" >-0.059085</td>\n",
       "                        <td id=\"T_1e42244e_414b_11eb_9df9_60f262b65606row6_col8\" class=\"data row6 col8\" >0.212198</td>\n",
       "                        <td id=\"T_1e42244e_414b_11eb_9df9_60f262b65606row6_col9\" class=\"data row6 col9\" >-0.015100</td>\n",
       "                        <td id=\"T_1e42244e_414b_11eb_9df9_60f262b65606row6_col10\" class=\"data row6 col10\" >-0.088188</td>\n",
       "                        <td id=\"T_1e42244e_414b_11eb_9df9_60f262b65606row6_col11\" class=\"data row6 col11\" >-0.053454</td>\n",
       "                        <td id=\"T_1e42244e_414b_11eb_9df9_60f262b65606row6_col12\" class=\"data row6 col12\" >-0.001032</td>\n",
       "            </tr>\n",
       "            <tr>\n",
       "                        <th id=\"T_1e42244e_414b_11eb_9df9_60f262b65606level0_row7\" class=\"row_heading level0 row7\" >x8</th>\n",
       "                        <td id=\"T_1e42244e_414b_11eb_9df9_60f262b65606row7_col0\" class=\"data row7 col0\" >0.233454</td>\n",
       "                        <td id=\"T_1e42244e_414b_11eb_9df9_60f262b65606row7_col1\" class=\"data row7 col1\" >0.250484</td>\n",
       "                        <td id=\"T_1e42244e_414b_11eb_9df9_60f262b65606row7_col2\" class=\"data row7 col2\" >-0.533472</td>\n",
       "                        <td id=\"T_1e42244e_414b_11eb_9df9_60f262b65606row7_col3\" class=\"data row7 col3\" >-0.333291</td>\n",
       "                        <td id=\"T_1e42244e_414b_11eb_9df9_60f262b65606row7_col4\" class=\"data row7 col4\" >-0.084957</td>\n",
       "                        <td id=\"T_1e42244e_414b_11eb_9df9_60f262b65606row7_col5\" class=\"data row7 col5\" >0.058134</td>\n",
       "                        <td id=\"T_1e42244e_414b_11eb_9df9_60f262b65606row7_col6\" class=\"data row7 col6\" >-0.059085</td>\n",
       "                        <td id=\"T_1e42244e_414b_11eb_9df9_60f262b65606row7_col7\" class=\"data row7 col7\" >1.000000</td>\n",
       "                        <td id=\"T_1e42244e_414b_11eb_9df9_60f262b65606row7_col8\" class=\"data row7 col8\" >-0.100246</td>\n",
       "                        <td id=\"T_1e42244e_414b_11eb_9df9_60f262b65606row7_col9\" class=\"data row7 col9\" >-0.014849</td>\n",
       "                        <td id=\"T_1e42244e_414b_11eb_9df9_60f262b65606row7_col10\" class=\"data row7 col10\" >-0.575807</td>\n",
       "                        <td id=\"T_1e42244e_414b_11eb_9df9_60f262b65606row7_col11\" class=\"data row7 col11\" >0.105183</td>\n",
       "                        <td id=\"T_1e42244e_414b_11eb_9df9_60f262b65606row7_col12\" class=\"data row7 col12\" >0.000413</td>\n",
       "            </tr>\n",
       "            <tr>\n",
       "                        <th id=\"T_1e42244e_414b_11eb_9df9_60f262b65606level0_row8\" class=\"row_heading level0 row8\" >x9</th>\n",
       "                        <td id=\"T_1e42244e_414b_11eb_9df9_60f262b65606row8_col0\" class=\"data row8 col0\" >0.503309</td>\n",
       "                        <td id=\"T_1e42244e_414b_11eb_9df9_60f262b65606row8_col1\" class=\"data row8 col1\" >-0.159071</td>\n",
       "                        <td id=\"T_1e42244e_414b_11eb_9df9_60f262b65606row8_col2\" class=\"data row8 col2\" >0.211517</td>\n",
       "                        <td id=\"T_1e42244e_414b_11eb_9df9_60f262b65606row8_col3\" class=\"data row8 col3\" >-0.104060</td>\n",
       "                        <td id=\"T_1e42244e_414b_11eb_9df9_60f262b65606row8_col4\" class=\"data row8 col4\" >0.284904</td>\n",
       "                        <td id=\"T_1e42244e_414b_11eb_9df9_60f262b65606row8_col5\" class=\"data row8 col5\" >-0.188257</td>\n",
       "                        <td id=\"T_1e42244e_414b_11eb_9df9_60f262b65606row8_col6\" class=\"data row8 col6\" >0.212198</td>\n",
       "                        <td id=\"T_1e42244e_414b_11eb_9df9_60f262b65606row8_col7\" class=\"data row8 col7\" >-0.100246</td>\n",
       "                        <td id=\"T_1e42244e_414b_11eb_9df9_60f262b65606row8_col8\" class=\"data row8 col8\" >1.000000</td>\n",
       "                        <td id=\"T_1e42244e_414b_11eb_9df9_60f262b65606row8_col9\" class=\"data row8 col9\" >-0.417446</td>\n",
       "                        <td id=\"T_1e42244e_414b_11eb_9df9_60f262b65606row8_col10\" class=\"data row8 col10\" >0.286377</td>\n",
       "                        <td id=\"T_1e42244e_414b_11eb_9df9_60f262b65606row8_col11\" class=\"data row8 col11\" >0.384590</td>\n",
       "                        <td id=\"T_1e42244e_414b_11eb_9df9_60f262b65606row8_col12\" class=\"data row8 col12\" >0.000892</td>\n",
       "            </tr>\n",
       "            <tr>\n",
       "                        <th id=\"T_1e42244e_414b_11eb_9df9_60f262b65606level0_row9\" class=\"row_heading level0 row9\" >x10</th>\n",
       "                        <td id=\"T_1e42244e_414b_11eb_9df9_60f262b65606row9_col0\" class=\"data row9 col0\" >-0.191495</td>\n",
       "                        <td id=\"T_1e42244e_414b_11eb_9df9_60f262b65606row9_col1\" class=\"data row9 col1\" >0.489932</td>\n",
       "                        <td id=\"T_1e42244e_414b_11eb_9df9_60f262b65606row9_col2\" class=\"data row9 col2\" >-0.405843</td>\n",
       "                        <td id=\"T_1e42244e_414b_11eb_9df9_60f262b65606row9_col3\" class=\"data row9 col3\" >-0.007152</td>\n",
       "                        <td id=\"T_1e42244e_414b_11eb_9df9_60f262b65606row9_col4\" class=\"data row9 col4\" >-0.327000</td>\n",
       "                        <td id=\"T_1e42244e_414b_11eb_9df9_60f262b65606row9_col5\" class=\"data row9 col5\" >0.094271</td>\n",
       "                        <td id=\"T_1e42244e_414b_11eb_9df9_60f262b65606row9_col6\" class=\"data row9 col6\" >-0.015100</td>\n",
       "                        <td id=\"T_1e42244e_414b_11eb_9df9_60f262b65606row9_col7\" class=\"data row9 col7\" >-0.014849</td>\n",
       "                        <td id=\"T_1e42244e_414b_11eb_9df9_60f262b65606row9_col8\" class=\"data row9 col8\" >-0.417446</td>\n",
       "                        <td id=\"T_1e42244e_414b_11eb_9df9_60f262b65606row9_col9\" class=\"data row9 col9\" >1.000000</td>\n",
       "                        <td id=\"T_1e42244e_414b_11eb_9df9_60f262b65606row9_col10\" class=\"data row9 col10\" >-0.318334</td>\n",
       "                        <td id=\"T_1e42244e_414b_11eb_9df9_60f262b65606row9_col11\" class=\"data row9 col11\" >0.234481</td>\n",
       "                        <td id=\"T_1e42244e_414b_11eb_9df9_60f262b65606row9_col12\" class=\"data row9 col12\" >-0.001401</td>\n",
       "            </tr>\n",
       "            <tr>\n",
       "                        <th id=\"T_1e42244e_414b_11eb_9df9_60f262b65606level0_row10\" class=\"row_heading level0 row10\" >x11</th>\n",
       "                        <td id=\"T_1e42244e_414b_11eb_9df9_60f262b65606row10_col0\" class=\"data row10 col0\" >0.378637</td>\n",
       "                        <td id=\"T_1e42244e_414b_11eb_9df9_60f262b65606row10_col1\" class=\"data row10 col1\" >-0.397303</td>\n",
       "                        <td id=\"T_1e42244e_414b_11eb_9df9_60f262b65606row10_col2\" class=\"data row10 col2\" >0.251416</td>\n",
       "                        <td id=\"T_1e42244e_414b_11eb_9df9_60f262b65606row10_col3\" class=\"data row10 col3\" >0.568115</td>\n",
       "                        <td id=\"T_1e42244e_414b_11eb_9df9_60f262b65606row10_col4\" class=\"data row10 col4\" >-0.058278</td>\n",
       "                        <td id=\"T_1e42244e_414b_11eb_9df9_60f262b65606row10_col5\" class=\"data row10 col5\" >0.038777</td>\n",
       "                        <td id=\"T_1e42244e_414b_11eb_9df9_60f262b65606row10_col6\" class=\"data row10 col6\" >-0.088188</td>\n",
       "                        <td id=\"T_1e42244e_414b_11eb_9df9_60f262b65606row10_col7\" class=\"data row10 col7\" >-0.575807</td>\n",
       "                        <td id=\"T_1e42244e_414b_11eb_9df9_60f262b65606row10_col8\" class=\"data row10 col8\" >0.286377</td>\n",
       "                        <td id=\"T_1e42244e_414b_11eb_9df9_60f262b65606row10_col9\" class=\"data row10 col9\" >-0.318334</td>\n",
       "                        <td id=\"T_1e42244e_414b_11eb_9df9_60f262b65606row10_col10\" class=\"data row10 col10\" >1.000000</td>\n",
       "                        <td id=\"T_1e42244e_414b_11eb_9df9_60f262b65606row10_col11\" class=\"data row10 col11\" >0.087389</td>\n",
       "                        <td id=\"T_1e42244e_414b_11eb_9df9_60f262b65606row10_col12\" class=\"data row10 col12\" >0.000936</td>\n",
       "            </tr>\n",
       "            <tr>\n",
       "                        <th id=\"T_1e42244e_414b_11eb_9df9_60f262b65606level0_row11\" class=\"row_heading level0 row11\" >x12</th>\n",
       "                        <td id=\"T_1e42244e_414b_11eb_9df9_60f262b65606row11_col0\" class=\"data row11 col0\" >0.422265</td>\n",
       "                        <td id=\"T_1e42244e_414b_11eb_9df9_60f262b65606row11_col1\" class=\"data row11 col1\" >-0.290247</td>\n",
       "                        <td id=\"T_1e42244e_414b_11eb_9df9_60f262b65606row11_col2\" class=\"data row11 col2\" >-0.376414</td>\n",
       "                        <td id=\"T_1e42244e_414b_11eb_9df9_60f262b65606row11_col3\" class=\"data row11 col3\" >-0.163343</td>\n",
       "                        <td id=\"T_1e42244e_414b_11eb_9df9_60f262b65606row11_col4\" class=\"data row11 col4\" >0.329247</td>\n",
       "                        <td id=\"T_1e42244e_414b_11eb_9df9_60f262b65606row11_col5\" class=\"data row11 col5\" >-0.084539</td>\n",
       "                        <td id=\"T_1e42244e_414b_11eb_9df9_60f262b65606row11_col6\" class=\"data row11 col6\" >-0.053454</td>\n",
       "                        <td id=\"T_1e42244e_414b_11eb_9df9_60f262b65606row11_col7\" class=\"data row11 col7\" >0.105183</td>\n",
       "                        <td id=\"T_1e42244e_414b_11eb_9df9_60f262b65606row11_col8\" class=\"data row11 col8\" >0.384590</td>\n",
       "                        <td id=\"T_1e42244e_414b_11eb_9df9_60f262b65606row11_col9\" class=\"data row11 col9\" >0.234481</td>\n",
       "                        <td id=\"T_1e42244e_414b_11eb_9df9_60f262b65606row11_col10\" class=\"data row11 col10\" >0.087389</td>\n",
       "                        <td id=\"T_1e42244e_414b_11eb_9df9_60f262b65606row11_col11\" class=\"data row11 col11\" >1.000000</td>\n",
       "                        <td id=\"T_1e42244e_414b_11eb_9df9_60f262b65606row11_col12\" class=\"data row11 col12\" >-0.001036</td>\n",
       "            </tr>\n",
       "            <tr>\n",
       "                        <th id=\"T_1e42244e_414b_11eb_9df9_60f262b65606level0_row12\" class=\"row_heading level0 row12\" >y</th>\n",
       "                        <td id=\"T_1e42244e_414b_11eb_9df9_60f262b65606row12_col0\" class=\"data row12 col0\" >0.000826</td>\n",
       "                        <td id=\"T_1e42244e_414b_11eb_9df9_60f262b65606row12_col1\" class=\"data row12 col1\" >0.000459</td>\n",
       "                        <td id=\"T_1e42244e_414b_11eb_9df9_60f262b65606row12_col2\" class=\"data row12 col2\" >0.000362</td>\n",
       "                        <td id=\"T_1e42244e_414b_11eb_9df9_60f262b65606row12_col3\" class=\"data row12 col3\" >0.001955</td>\n",
       "                        <td id=\"T_1e42244e_414b_11eb_9df9_60f262b65606row12_col4\" class=\"data row12 col4\" >0.001165</td>\n",
       "                        <td id=\"T_1e42244e_414b_11eb_9df9_60f262b65606row12_col5\" class=\"data row12 col5\" >-0.002027</td>\n",
       "                        <td id=\"T_1e42244e_414b_11eb_9df9_60f262b65606row12_col6\" class=\"data row12 col6\" >-0.001032</td>\n",
       "                        <td id=\"T_1e42244e_414b_11eb_9df9_60f262b65606row12_col7\" class=\"data row12 col7\" >0.000413</td>\n",
       "                        <td id=\"T_1e42244e_414b_11eb_9df9_60f262b65606row12_col8\" class=\"data row12 col8\" >0.000892</td>\n",
       "                        <td id=\"T_1e42244e_414b_11eb_9df9_60f262b65606row12_col9\" class=\"data row12 col9\" >-0.001401</td>\n",
       "                        <td id=\"T_1e42244e_414b_11eb_9df9_60f262b65606row12_col10\" class=\"data row12 col10\" >0.000936</td>\n",
       "                        <td id=\"T_1e42244e_414b_11eb_9df9_60f262b65606row12_col11\" class=\"data row12 col11\" >-0.001036</td>\n",
       "                        <td id=\"T_1e42244e_414b_11eb_9df9_60f262b65606row12_col12\" class=\"data row12 col12\" >1.000000</td>\n",
       "            </tr>\n",
       "    </tbody></table>"
      ],
      "text/plain": [
       "<pandas.io.formats.style.Styler at 0x1fe38045e50>"
      ]
     },
     "execution_count": 6,
     "metadata": {},
     "output_type": "execute_result"
    }
   ],
   "source": [
    "#finding the correlation of all the variables in the data-set\n",
    "df.corr().style.background_gradient(cmap='coolwarm')"
   ]
  },
  {
   "cell_type": "code",
   "execution_count": 7,
   "metadata": {
    "colab": {
     "base_uri": "https://localhost:8080/",
     "height": 380
    },
    "id": "La5YzUDSDpyI",
    "outputId": "9a9b6a6d-5922-4b78-f098-fae4d757e032"
   },
   "outputs": [
    {
     "data": {
      "text/html": [
       "<div>\n",
       "<style scoped>\n",
       "    .dataframe tbody tr th:only-of-type {\n",
       "        vertical-align: middle;\n",
       "    }\n",
       "\n",
       "    .dataframe tbody tr th {\n",
       "        vertical-align: top;\n",
       "    }\n",
       "\n",
       "    .dataframe thead th {\n",
       "        text-align: right;\n",
       "    }\n",
       "</style>\n",
       "<table border=\"1\" class=\"dataframe\">\n",
       "  <thead>\n",
       "    <tr style=\"text-align: right;\">\n",
       "      <th></th>\n",
       "      <th>x1</th>\n",
       "      <th>x2</th>\n",
       "      <th>x3</th>\n",
       "      <th>x4</th>\n",
       "      <th>x5</th>\n",
       "      <th>x6</th>\n",
       "      <th>x7</th>\n",
       "      <th>x8</th>\n",
       "      <th>x9</th>\n",
       "      <th>x10</th>\n",
       "      <th>x11</th>\n",
       "      <th>x12</th>\n",
       "    </tr>\n",
       "  </thead>\n",
       "  <tbody>\n",
       "    <tr>\n",
       "      <th>0</th>\n",
       "      <td>1.830433</td>\n",
       "      <td>1.494298</td>\n",
       "      <td>-2.141080</td>\n",
       "      <td>-2.155460</td>\n",
       "      <td>0.270127</td>\n",
       "      <td>-0.200620</td>\n",
       "      <td>0.093839</td>\n",
       "      <td>1.171075</td>\n",
       "      <td>1.403914</td>\n",
       "      <td>1.396813</td>\n",
       "      <td>-1.544217</td>\n",
       "      <td>1.676625</td>\n",
       "    </tr>\n",
       "    <tr>\n",
       "      <th>1</th>\n",
       "      <td>-1.408457</td>\n",
       "      <td>-2.556497</td>\n",
       "      <td>2.616034</td>\n",
       "      <td>3.000666</td>\n",
       "      <td>1.154949</td>\n",
       "      <td>0.288982</td>\n",
       "      <td>-0.404475</td>\n",
       "      <td>-3.067904</td>\n",
       "      <td>-0.783279</td>\n",
       "      <td>-0.588727</td>\n",
       "      <td>4.597042</td>\n",
       "      <td>-0.110411</td>\n",
       "    </tr>\n",
       "    <tr>\n",
       "      <th>2</th>\n",
       "      <td>1.760458</td>\n",
       "      <td>4.608794</td>\n",
       "      <td>-0.142573</td>\n",
       "      <td>1.472204</td>\n",
       "      <td>-3.849782</td>\n",
       "      <td>1.473854</td>\n",
       "      <td>-1.868692</td>\n",
       "      <td>-0.640403</td>\n",
       "      <td>0.538785</td>\n",
       "      <td>2.146118</td>\n",
       "      <td>3.052427</td>\n",
       "      <td>0.949428</td>\n",
       "    </tr>\n",
       "    <tr>\n",
       "      <th>3</th>\n",
       "      <td>-1.731262</td>\n",
       "      <td>0.231366</td>\n",
       "      <td>2.911554</td>\n",
       "      <td>0.163478</td>\n",
       "      <td>1.402251</td>\n",
       "      <td>-1.244460</td>\n",
       "      <td>0.827515</td>\n",
       "      <td>-2.875059</td>\n",
       "      <td>-0.323246</td>\n",
       "      <td>0.520745</td>\n",
       "      <td>-0.205174</td>\n",
       "      <td>-1.499808</td>\n",
       "    </tr>\n",
       "    <tr>\n",
       "      <th>4</th>\n",
       "      <td>1.333824</td>\n",
       "      <td>-1.561848</td>\n",
       "      <td>2.408792</td>\n",
       "      <td>0.433006</td>\n",
       "      <td>0.477863</td>\n",
       "      <td>-1.966526</td>\n",
       "      <td>1.684337</td>\n",
       "      <td>-1.867530</td>\n",
       "      <td>2.521149</td>\n",
       "      <td>-3.183390</td>\n",
       "      <td>5.744132</td>\n",
       "      <td>-1.597498</td>\n",
       "    </tr>\n",
       "  </tbody>\n",
       "</table>\n",
       "</div>"
      ],
      "text/plain": [
       "         x1        x2        x3        x4        x5        x6        x7  \\\n",
       "0  1.830433  1.494298 -2.141080 -2.155460  0.270127 -0.200620  0.093839   \n",
       "1 -1.408457 -2.556497  2.616034  3.000666  1.154949  0.288982 -0.404475   \n",
       "2  1.760458  4.608794 -0.142573  1.472204 -3.849782  1.473854 -1.868692   \n",
       "3 -1.731262  0.231366  2.911554  0.163478  1.402251 -1.244460  0.827515   \n",
       "4  1.333824 -1.561848  2.408792  0.433006  0.477863 -1.966526  1.684337   \n",
       "\n",
       "         x8        x9       x10       x11       x12  \n",
       "0  1.171075  1.403914  1.396813 -1.544217  1.676625  \n",
       "1 -3.067904 -0.783279 -0.588727  4.597042 -0.110411  \n",
       "2 -0.640403  0.538785  2.146118  3.052427  0.949428  \n",
       "3 -2.875059 -0.323246  0.520745 -0.205174 -1.499808  \n",
       "4 -1.867530  2.521149 -3.183390  5.744132 -1.597498  "
      ]
     },
     "metadata": {},
     "output_type": "display_data"
    },
    {
     "name": "stdout",
     "output_type": "stream",
     "text": [
      "0    0\n",
      "1    1\n",
      "2    1\n",
      "3    1\n",
      "4    0\n",
      "5    1\n",
      "6    0\n",
      "7    0\n",
      "8    1\n",
      "9    1\n",
      "Name: y, dtype: int64\n"
     ]
    }
   ],
   "source": [
    "y = df.pop('y')\n",
    "X = df\n",
    "display(df.head())\n",
    "print(y[:10])"
   ]
  },
  {
   "cell_type": "code",
   "execution_count": 8,
   "metadata": {
    "colab": {
     "base_uri": "https://localhost:8080/",
     "height": 106
    },
    "id": "_1fK3tePDpyK",
    "outputId": "50305bdb-ed45-4491-f36b-39c279436330"
   },
   "outputs": [
    {
     "data": {
      "text/html": [
       "<div>\n",
       "<style scoped>\n",
       "    .dataframe tbody tr th:only-of-type {\n",
       "        vertical-align: middle;\n",
       "    }\n",
       "\n",
       "    .dataframe tbody tr th {\n",
       "        vertical-align: top;\n",
       "    }\n",
       "\n",
       "    .dataframe thead th {\n",
       "        text-align: right;\n",
       "    }\n",
       "</style>\n",
       "<table border=\"1\" class=\"dataframe\">\n",
       "  <thead>\n",
       "    <tr style=\"text-align: right;\">\n",
       "      <th></th>\n",
       "      <th>x1</th>\n",
       "      <th>x2</th>\n",
       "      <th>x3</th>\n",
       "      <th>x4</th>\n",
       "      <th>x5</th>\n",
       "      <th>x6</th>\n",
       "      <th>x7</th>\n",
       "      <th>x8</th>\n",
       "      <th>x9</th>\n",
       "      <th>x10</th>\n",
       "      <th>x11</th>\n",
       "      <th>x12</th>\n",
       "    </tr>\n",
       "  </thead>\n",
       "  <tbody>\n",
       "    <tr>\n",
       "      <th>min</th>\n",
       "      <td>-5.002253</td>\n",
       "      <td>-9.426396</td>\n",
       "      <td>-6.889677</td>\n",
       "      <td>-6.727678</td>\n",
       "      <td>-6.814575</td>\n",
       "      <td>-5.760816</td>\n",
       "      <td>-5.872210</td>\n",
       "      <td>-6.586501</td>\n",
       "      <td>-7.682507</td>\n",
       "      <td>-5.916694</td>\n",
       "      <td>-9.062599</td>\n",
       "      <td>-7.906362</td>\n",
       "    </tr>\n",
       "    <tr>\n",
       "      <th>max</th>\n",
       "      <td>4.684574</td>\n",
       "      <td>8.898895</td>\n",
       "      <td>7.453131</td>\n",
       "      <td>6.715654</td>\n",
       "      <td>6.548304</td>\n",
       "      <td>5.574340</td>\n",
       "      <td>6.122361</td>\n",
       "      <td>6.354650</td>\n",
       "      <td>7.507812</td>\n",
       "      <td>6.293319</td>\n",
       "      <td>8.771217</td>\n",
       "      <td>7.918844</td>\n",
       "    </tr>\n",
       "  </tbody>\n",
       "</table>\n",
       "</div>"
      ],
      "text/plain": [
       "           x1        x2        x3        x4        x5        x6        x7  \\\n",
       "min -5.002253 -9.426396 -6.889677 -6.727678 -6.814575 -5.760816 -5.872210   \n",
       "max  4.684574  8.898895  7.453131  6.715654  6.548304  5.574340  6.122361   \n",
       "\n",
       "           x8        x9       x10       x11       x12  \n",
       "min -6.586501 -7.682507 -5.916694 -9.062599 -7.906362  \n",
       "max  6.354650  7.507812  6.293319  8.771217  7.918844  "
      ]
     },
     "execution_count": 8,
     "metadata": {},
     "output_type": "execute_result"
    }
   ],
   "source": [
    "#checking the range of each continuous variable\n",
    "df.agg([min, max])"
   ]
  },
  {
   "cell_type": "code",
   "execution_count": 9,
   "metadata": {
    "colab": {
     "base_uri": "https://localhost:8080/",
     "height": 278
    },
    "id": "nwwlvQDCDpyL",
    "outputId": "b445faab-ee2e-4332-ff44-9488bf7f58c1"
   },
   "outputs": [
    {
     "data": {
      "text/html": [
       "<style  type=\"text/css\" >\n",
       "#T_1eaa29f5_414b_11eb_9a8d_60f262b65606row0_col0,#T_1eaa29f5_414b_11eb_9a8d_60f262b65606row1_col1,#T_1eaa29f5_414b_11eb_9a8d_60f262b65606row2_col2,#T_1eaa29f5_414b_11eb_9a8d_60f262b65606row3_col3,#T_1eaa29f5_414b_11eb_9a8d_60f262b65606row4_col4,#T_1eaa29f5_414b_11eb_9a8d_60f262b65606row5_col5,#T_1eaa29f5_414b_11eb_9a8d_60f262b65606row6_col6,#T_1eaa29f5_414b_11eb_9a8d_60f262b65606row7_col7,#T_1eaa29f5_414b_11eb_9a8d_60f262b65606row8_col8,#T_1eaa29f5_414b_11eb_9a8d_60f262b65606row9_col9,#T_1eaa29f5_414b_11eb_9a8d_60f262b65606row10_col10,#T_1eaa29f5_414b_11eb_9a8d_60f262b65606row11_col11{\n",
       "            background-color:  #b40426;\n",
       "            color:  #f1f1f1;\n",
       "        }#T_1eaa29f5_414b_11eb_9a8d_60f262b65606row0_col1,#T_1eaa29f5_414b_11eb_9a8d_60f262b65606row3_col1{\n",
       "            background-color:  #8db0fe;\n",
       "            color:  #000000;\n",
       "        }#T_1eaa29f5_414b_11eb_9a8d_60f262b65606row0_col2,#T_1eaa29f5_414b_11eb_9a8d_60f262b65606row9_col4{\n",
       "            background-color:  #6180e9;\n",
       "            color:  #000000;\n",
       "        }#T_1eaa29f5_414b_11eb_9a8d_60f262b65606row0_col3,#T_1eaa29f5_414b_11eb_9a8d_60f262b65606row5_col9,#T_1eaa29f5_414b_11eb_9a8d_60f262b65606row7_col5{\n",
       "            background-color:  #b3cdfb;\n",
       "            color:  #000000;\n",
       "        }#T_1eaa29f5_414b_11eb_9a8d_60f262b65606row0_col4,#T_1eaa29f5_414b_11eb_9a8d_60f262b65606row6_col9,#T_1eaa29f5_414b_11eb_9a8d_60f262b65606row7_col4,#T_1eaa29f5_414b_11eb_9a8d_60f262b65606row7_col9{\n",
       "            background-color:  #98b9ff;\n",
       "            color:  #000000;\n",
       "        }#T_1eaa29f5_414b_11eb_9a8d_60f262b65606row0_col5,#T_1eaa29f5_414b_11eb_9a8d_60f262b65606row11_col5{\n",
       "            background-color:  #92b4fe;\n",
       "            color:  #000000;\n",
       "        }#T_1eaa29f5_414b_11eb_9a8d_60f262b65606row0_col6,#T_1eaa29f5_414b_11eb_9a8d_60f262b65606row1_col4,#T_1eaa29f5_414b_11eb_9a8d_60f262b65606row2_col0,#T_1eaa29f5_414b_11eb_9a8d_60f262b65606row2_col11,#T_1eaa29f5_414b_11eb_9a8d_60f262b65606row4_col1,#T_1eaa29f5_414b_11eb_9a8d_60f262b65606row4_col5,#T_1eaa29f5_414b_11eb_9a8d_60f262b65606row7_col2,#T_1eaa29f5_414b_11eb_9a8d_60f262b65606row7_col3,#T_1eaa29f5_414b_11eb_9a8d_60f262b65606row7_col10,#T_1eaa29f5_414b_11eb_9a8d_60f262b65606row8_col9,#T_1eaa29f5_414b_11eb_9a8d_60f262b65606row9_col8,#T_1eaa29f5_414b_11eb_9a8d_60f262b65606row10_col7{\n",
       "            background-color:  #3b4cc0;\n",
       "            color:  #f1f1f1;\n",
       "        }#T_1eaa29f5_414b_11eb_9a8d_60f262b65606row0_col7,#T_1eaa29f5_414b_11eb_9a8d_60f262b65606row4_col11,#T_1eaa29f5_414b_11eb_9a8d_60f262b65606row10_col2{\n",
       "            background-color:  #e0dbd8;\n",
       "            color:  #000000;\n",
       "        }#T_1eaa29f5_414b_11eb_9a8d_60f262b65606row0_col8{\n",
       "            background-color:  #f6bda2;\n",
       "            color:  #000000;\n",
       "        }#T_1eaa29f5_414b_11eb_9a8d_60f262b65606row0_col9,#T_1eaa29f5_414b_11eb_9a8d_60f262b65606row1_col0{\n",
       "            background-color:  #6c8ff1;\n",
       "            color:  #000000;\n",
       "        }#T_1eaa29f5_414b_11eb_9a8d_60f262b65606row0_col10{\n",
       "            background-color:  #f2c9b4;\n",
       "            color:  #000000;\n",
       "        }#T_1eaa29f5_414b_11eb_9a8d_60f262b65606row0_col11{\n",
       "            background-color:  #efcfbf;\n",
       "            color:  #000000;\n",
       "        }#T_1eaa29f5_414b_11eb_9a8d_60f262b65606row1_col2{\n",
       "            background-color:  #89acfd;\n",
       "            color:  #000000;\n",
       "        }#T_1eaa29f5_414b_11eb_9a8d_60f262b65606row1_col3,#T_1eaa29f5_414b_11eb_9a8d_60f262b65606row3_col7,#T_1eaa29f5_414b_11eb_9a8d_60f262b65606row3_col11{\n",
       "            background-color:  #6b8df0;\n",
       "            color:  #000000;\n",
       "        }#T_1eaa29f5_414b_11eb_9a8d_60f262b65606row1_col5,#T_1eaa29f5_414b_11eb_9a8d_60f262b65606row4_col7,#T_1eaa29f5_414b_11eb_9a8d_60f262b65606row6_col10{\n",
       "            background-color:  #a2c1ff;\n",
       "            color:  #000000;\n",
       "        }#T_1eaa29f5_414b_11eb_9a8d_60f262b65606row1_col6{\n",
       "            background-color:  #7093f3;\n",
       "            color:  #000000;\n",
       "        }#T_1eaa29f5_414b_11eb_9a8d_60f262b65606row1_col7,#T_1eaa29f5_414b_11eb_9a8d_60f262b65606row2_col10,#T_1eaa29f5_414b_11eb_9a8d_60f262b65606row8_col4{\n",
       "            background-color:  #e3d9d3;\n",
       "            color:  #000000;\n",
       "        }#T_1eaa29f5_414b_11eb_9a8d_60f262b65606row1_col8{\n",
       "            background-color:  #7597f6;\n",
       "            color:  #000000;\n",
       "        }#T_1eaa29f5_414b_11eb_9a8d_60f262b65606row1_col9{\n",
       "            background-color:  #f5c0a7;\n",
       "            color:  #000000;\n",
       "        }#T_1eaa29f5_414b_11eb_9a8d_60f262b65606row1_col10,#T_1eaa29f5_414b_11eb_9a8d_60f262b65606row9_col0{\n",
       "            background-color:  #5d7ce6;\n",
       "            color:  #000000;\n",
       "        }#T_1eaa29f5_414b_11eb_9a8d_60f262b65606row1_col11,#T_1eaa29f5_414b_11eb_9a8d_60f262b65606row4_col9{\n",
       "            background-color:  #4e68d8;\n",
       "            color:  #000000;\n",
       "        }#T_1eaa29f5_414b_11eb_9a8d_60f262b65606row2_col1{\n",
       "            background-color:  #85a8fc;\n",
       "            color:  #000000;\n",
       "        }#T_1eaa29f5_414b_11eb_9a8d_60f262b65606row2_col3{\n",
       "            background-color:  #81a4fb;\n",
       "            color:  #000000;\n",
       "        }#T_1eaa29f5_414b_11eb_9a8d_60f262b65606row2_col4{\n",
       "            background-color:  #a3c2fe;\n",
       "            color:  #000000;\n",
       "        }#T_1eaa29f5_414b_11eb_9a8d_60f262b65606row2_col5,#T_1eaa29f5_414b_11eb_9a8d_60f262b65606row3_col9{\n",
       "            background-color:  #9bbcff;\n",
       "            color:  #000000;\n",
       "        }#T_1eaa29f5_414b_11eb_9a8d_60f262b65606row2_col6{\n",
       "            background-color:  #b6cefa;\n",
       "            color:  #000000;\n",
       "        }#T_1eaa29f5_414b_11eb_9a8d_60f262b65606row2_col7{\n",
       "            background-color:  #4257c9;\n",
       "            color:  #f1f1f1;\n",
       "        }#T_1eaa29f5_414b_11eb_9a8d_60f262b65606row2_col8,#T_1eaa29f5_414b_11eb_9a8d_60f262b65606row6_col8,#T_1eaa29f5_414b_11eb_9a8d_60f262b65606row9_col11{\n",
       "            background-color:  #cdd9ec;\n",
       "            color:  #000000;\n",
       "        }#T_1eaa29f5_414b_11eb_9a8d_60f262b65606row2_col9{\n",
       "            background-color:  #3d50c3;\n",
       "            color:  #f1f1f1;\n",
       "        }#T_1eaa29f5_414b_11eb_9a8d_60f262b65606row3_col0{\n",
       "            background-color:  #b5cdfa;\n",
       "            color:  #000000;\n",
       "        }#T_1eaa29f5_414b_11eb_9a8d_60f262b65606row3_col2,#T_1eaa29f5_414b_11eb_9a8d_60f262b65606row5_col2{\n",
       "            background-color:  #a5c3fe;\n",
       "            color:  #000000;\n",
       "        }#T_1eaa29f5_414b_11eb_9a8d_60f262b65606row3_col4,#T_1eaa29f5_414b_11eb_9a8d_60f262b65606row6_col1,#T_1eaa29f5_414b_11eb_9a8d_60f262b65606row10_col4{\n",
       "            background-color:  #9ebeff;\n",
       "            color:  #000000;\n",
       "        }#T_1eaa29f5_414b_11eb_9a8d_60f262b65606row3_col5{\n",
       "            background-color:  #e1dad6;\n",
       "            color:  #000000;\n",
       "        }#T_1eaa29f5_414b_11eb_9a8d_60f262b65606row3_col6{\n",
       "            background-color:  #4961d2;\n",
       "            color:  #f1f1f1;\n",
       "        }#T_1eaa29f5_414b_11eb_9a8d_60f262b65606row3_col8,#T_1eaa29f5_414b_11eb_9a8d_60f262b65606row5_col6{\n",
       "            background-color:  #82a6fb;\n",
       "            color:  #000000;\n",
       "        }#T_1eaa29f5_414b_11eb_9a8d_60f262b65606row3_col10{\n",
       "            background-color:  #f6a385;\n",
       "            color:  #000000;\n",
       "        }#T_1eaa29f5_414b_11eb_9a8d_60f262b65606row4_col0,#T_1eaa29f5_414b_11eb_9a8d_60f262b65606row8_col5{\n",
       "            background-color:  #799cf8;\n",
       "            color:  #000000;\n",
       "        }#T_1eaa29f5_414b_11eb_9a8d_60f262b65606row4_col2,#T_1eaa29f5_414b_11eb_9a8d_60f262b65606row6_col5{\n",
       "            background-color:  #a6c4fe;\n",
       "            color:  #000000;\n",
       "        }#T_1eaa29f5_414b_11eb_9a8d_60f262b65606row4_col3{\n",
       "            background-color:  #7da0f9;\n",
       "            color:  #000000;\n",
       "        }#T_1eaa29f5_414b_11eb_9a8d_60f262b65606row4_col6{\n",
       "            background-color:  #bfd3f6;\n",
       "            color:  #000000;\n",
       "        }#T_1eaa29f5_414b_11eb_9a8d_60f262b65606row4_col8{\n",
       "            background-color:  #dbdcde;\n",
       "            color:  #000000;\n",
       "        }#T_1eaa29f5_414b_11eb_9a8d_60f262b65606row4_col10{\n",
       "            background-color:  #a9c6fd;\n",
       "            color:  #000000;\n",
       "        }#T_1eaa29f5_414b_11eb_9a8d_60f262b65606row5_col0{\n",
       "            background-color:  #779af7;\n",
       "            color:  #000000;\n",
       "        }#T_1eaa29f5_414b_11eb_9a8d_60f262b65606row5_col1,#T_1eaa29f5_414b_11eb_9a8d_60f262b65606row6_col7{\n",
       "            background-color:  #a7c5fe;\n",
       "            color:  #000000;\n",
       "        }#T_1eaa29f5_414b_11eb_9a8d_60f262b65606row5_col3{\n",
       "            background-color:  #d4dbe6;\n",
       "            color:  #000000;\n",
       "        }#T_1eaa29f5_414b_11eb_9a8d_60f262b65606row5_col4{\n",
       "            background-color:  #4055c8;\n",
       "            color:  #f1f1f1;\n",
       "        }#T_1eaa29f5_414b_11eb_9a8d_60f262b65606row5_col7{\n",
       "            background-color:  #c0d4f5;\n",
       "            color:  #000000;\n",
       "        }#T_1eaa29f5_414b_11eb_9a8d_60f262b65606row5_col8,#T_1eaa29f5_414b_11eb_9a8d_60f262b65606row9_col10{\n",
       "            background-color:  #6e90f2;\n",
       "            color:  #000000;\n",
       "        }#T_1eaa29f5_414b_11eb_9a8d_60f262b65606row5_col10{\n",
       "            background-color:  #bcd2f7;\n",
       "            color:  #000000;\n",
       "        }#T_1eaa29f5_414b_11eb_9a8d_60f262b65606row5_col11{\n",
       "            background-color:  #80a3fa;\n",
       "            color:  #000000;\n",
       "        }#T_1eaa29f5_414b_11eb_9a8d_60f262b65606row6_col0{\n",
       "            background-color:  #485fd1;\n",
       "            color:  #f1f1f1;\n",
       "        }#T_1eaa29f5_414b_11eb_9a8d_60f262b65606row6_col2{\n",
       "            background-color:  #d6dce4;\n",
       "            color:  #000000;\n",
       "        }#T_1eaa29f5_414b_11eb_9a8d_60f262b65606row6_col3,#T_1eaa29f5_414b_11eb_9a8d_60f262b65606row9_col2{\n",
       "            background-color:  #5470de;\n",
       "            color:  #000000;\n",
       "        }#T_1eaa29f5_414b_11eb_9a8d_60f262b65606row6_col4{\n",
       "            background-color:  #dadce0;\n",
       "            color:  #000000;\n",
       "        }#T_1eaa29f5_414b_11eb_9a8d_60f262b65606row6_col11{\n",
       "            background-color:  #88abfd;\n",
       "            color:  #000000;\n",
       "        }#T_1eaa29f5_414b_11eb_9a8d_60f262b65606row7_col0{\n",
       "            background-color:  #c9d7f0;\n",
       "            color:  #000000;\n",
       "        }#T_1eaa29f5_414b_11eb_9a8d_60f262b65606row7_col1{\n",
       "            background-color:  #dedcdb;\n",
       "            color:  #000000;\n",
       "        }#T_1eaa29f5_414b_11eb_9a8d_60f262b65606row7_col6,#T_1eaa29f5_414b_11eb_9a8d_60f262b65606row8_col3{\n",
       "            background-color:  #7295f4;\n",
       "            color:  #000000;\n",
       "        }#T_1eaa29f5_414b_11eb_9a8d_60f262b65606row7_col8{\n",
       "            background-color:  #84a7fc;\n",
       "            color:  #000000;\n",
       "        }#T_1eaa29f5_414b_11eb_9a8d_60f262b65606row7_col11,#T_1eaa29f5_414b_11eb_9a8d_60f262b65606row10_col5{\n",
       "            background-color:  #afcafc;\n",
       "            color:  #000000;\n",
       "        }#T_1eaa29f5_414b_11eb_9a8d_60f262b65606row8_col0{\n",
       "            background-color:  #f5c2aa;\n",
       "            color:  #000000;\n",
       "        }#T_1eaa29f5_414b_11eb_9a8d_60f262b65606row8_col1{\n",
       "            background-color:  #86a9fc;\n",
       "            color:  #000000;\n",
       "        }#T_1eaa29f5_414b_11eb_9a8d_60f262b65606row8_col2{\n",
       "            background-color:  #d9dce1;\n",
       "            color:  #000000;\n",
       "        }#T_1eaa29f5_414b_11eb_9a8d_60f262b65606row8_col6,#T_1eaa29f5_414b_11eb_9a8d_60f262b65606row9_col5{\n",
       "            background-color:  #bbd1f8;\n",
       "            color:  #000000;\n",
       "        }#T_1eaa29f5_414b_11eb_9a8d_60f262b65606row8_col7{\n",
       "            background-color:  #9fbfff;\n",
       "            color:  #000000;\n",
       "        }#T_1eaa29f5_414b_11eb_9a8d_60f262b65606row8_col10{\n",
       "            background-color:  #e9d5cb;\n",
       "            color:  #000000;\n",
       "        }#T_1eaa29f5_414b_11eb_9a8d_60f262b65606row8_col11{\n",
       "            background-color:  #ead5c9;\n",
       "            color:  #000000;\n",
       "        }#T_1eaa29f5_414b_11eb_9a8d_60f262b65606row9_col1{\n",
       "            background-color:  #f7b99e;\n",
       "            color:  #000000;\n",
       "        }#T_1eaa29f5_414b_11eb_9a8d_60f262b65606row9_col3{\n",
       "            background-color:  #8badfd;\n",
       "            color:  #000000;\n",
       "        }#T_1eaa29f5_414b_11eb_9a8d_60f262b65606row9_col6{\n",
       "            background-color:  #7ea1fa;\n",
       "            color:  #000000;\n",
       "        }#T_1eaa29f5_414b_11eb_9a8d_60f262b65606row9_col7{\n",
       "            background-color:  #b2ccfb;\n",
       "            color:  #000000;\n",
       "        }#T_1eaa29f5_414b_11eb_9a8d_60f262b65606row10_col0{\n",
       "            background-color:  #e6d7cf;\n",
       "            color:  #000000;\n",
       "        }#T_1eaa29f5_414b_11eb_9a8d_60f262b65606row10_col1{\n",
       "            background-color:  #516ddb;\n",
       "            color:  #000000;\n",
       "        }#T_1eaa29f5_414b_11eb_9a8d_60f262b65606row10_col3{\n",
       "            background-color:  #f7b497;\n",
       "            color:  #000000;\n",
       "        }#T_1eaa29f5_414b_11eb_9a8d_60f262b65606row10_col6{\n",
       "            background-color:  #6a8bef;\n",
       "            color:  #000000;\n",
       "        }#T_1eaa29f5_414b_11eb_9a8d_60f262b65606row10_col8{\n",
       "            background-color:  #dcdddd;\n",
       "            color:  #000000;\n",
       "        }#T_1eaa29f5_414b_11eb_9a8d_60f262b65606row10_col9{\n",
       "            background-color:  #4f69d9;\n",
       "            color:  #000000;\n",
       "        }#T_1eaa29f5_414b_11eb_9a8d_60f262b65606row10_col11{\n",
       "            background-color:  #abc8fd;\n",
       "            color:  #000000;\n",
       "        }#T_1eaa29f5_414b_11eb_9a8d_60f262b65606row11_col0{\n",
       "            background-color:  #edd2c3;\n",
       "            color:  #000000;\n",
       "        }#T_1eaa29f5_414b_11eb_9a8d_60f262b65606row11_col1{\n",
       "            background-color:  #688aef;\n",
       "            color:  #000000;\n",
       "        }#T_1eaa29f5_414b_11eb_9a8d_60f262b65606row11_col2{\n",
       "            background-color:  #5a78e4;\n",
       "            color:  #000000;\n",
       "        }#T_1eaa29f5_414b_11eb_9a8d_60f262b65606row11_col3{\n",
       "            background-color:  #6282ea;\n",
       "            color:  #000000;\n",
       "        }#T_1eaa29f5_414b_11eb_9a8d_60f262b65606row11_col4{\n",
       "            background-color:  #ead4c8;\n",
       "            color:  #000000;\n",
       "        }#T_1eaa29f5_414b_11eb_9a8d_60f262b65606row11_col6{\n",
       "            background-color:  #7396f5;\n",
       "            color:  #000000;\n",
       "        }#T_1eaa29f5_414b_11eb_9a8d_60f262b65606row11_col7{\n",
       "            background-color:  #cad8ef;\n",
       "            color:  #000000;\n",
       "        }#T_1eaa29f5_414b_11eb_9a8d_60f262b65606row11_col8{\n",
       "            background-color:  #ecd3c5;\n",
       "            color:  #000000;\n",
       "        }#T_1eaa29f5_414b_11eb_9a8d_60f262b65606row11_col9{\n",
       "            background-color:  #d2dbe8;\n",
       "            color:  #000000;\n",
       "        }#T_1eaa29f5_414b_11eb_9a8d_60f262b65606row11_col10{\n",
       "            background-color:  #c6d6f1;\n",
       "            color:  #000000;\n",
       "        }</style><table id=\"T_1eaa29f5_414b_11eb_9a8d_60f262b65606\" ><thead>    <tr>        <th class=\"blank level0\" ></th>        <th class=\"col_heading level0 col0\" >x1</th>        <th class=\"col_heading level0 col1\" >x2</th>        <th class=\"col_heading level0 col2\" >x3</th>        <th class=\"col_heading level0 col3\" >x4</th>        <th class=\"col_heading level0 col4\" >x5</th>        <th class=\"col_heading level0 col5\" >x6</th>        <th class=\"col_heading level0 col6\" >x7</th>        <th class=\"col_heading level0 col7\" >x8</th>        <th class=\"col_heading level0 col8\" >x9</th>        <th class=\"col_heading level0 col9\" >x10</th>        <th class=\"col_heading level0 col10\" >x11</th>        <th class=\"col_heading level0 col11\" >x12</th>    </tr></thead><tbody>\n",
       "                <tr>\n",
       "                        <th id=\"T_1eaa29f5_414b_11eb_9a8d_60f262b65606level0_row0\" class=\"row_heading level0 row0\" >x1</th>\n",
       "                        <td id=\"T_1eaa29f5_414b_11eb_9a8d_60f262b65606row0_col0\" class=\"data row0 col0\" >1.000000</td>\n",
       "                        <td id=\"T_1eaa29f5_414b_11eb_9a8d_60f262b65606row0_col1\" class=\"data row0 col1\" >-0.128330</td>\n",
       "                        <td id=\"T_1eaa29f5_414b_11eb_9a8d_60f262b65606row0_col2\" class=\"data row0 col2\" >-0.343222</td>\n",
       "                        <td id=\"T_1eaa29f5_414b_11eb_9a8d_60f262b65606row0_col3\" class=\"data row0 col3\" >0.148338</td>\n",
       "                        <td id=\"T_1eaa29f5_414b_11eb_9a8d_60f262b65606row0_col4\" class=\"data row0 col4\" >-0.082265</td>\n",
       "                        <td id=\"T_1eaa29f5_414b_11eb_9a8d_60f262b65606row0_col5\" class=\"data row0 col5\" >-0.088297</td>\n",
       "                        <td id=\"T_1eaa29f5_414b_11eb_9a8d_60f262b65606row0_col6\" class=\"data row0 col6\" >-0.281078</td>\n",
       "                        <td id=\"T_1eaa29f5_414b_11eb_9a8d_60f262b65606row0_col7\" class=\"data row0 col7\" >0.233454</td>\n",
       "                        <td id=\"T_1eaa29f5_414b_11eb_9a8d_60f262b65606row0_col8\" class=\"data row0 col8\" >0.503309</td>\n",
       "                        <td id=\"T_1eaa29f5_414b_11eb_9a8d_60f262b65606row0_col9\" class=\"data row0 col9\" >-0.191495</td>\n",
       "                        <td id=\"T_1eaa29f5_414b_11eb_9a8d_60f262b65606row0_col10\" class=\"data row0 col10\" >0.378637</td>\n",
       "                        <td id=\"T_1eaa29f5_414b_11eb_9a8d_60f262b65606row0_col11\" class=\"data row0 col11\" >0.422265</td>\n",
       "            </tr>\n",
       "            <tr>\n",
       "                        <th id=\"T_1eaa29f5_414b_11eb_9a8d_60f262b65606level0_row1\" class=\"row_heading level0 row1\" >x2</th>\n",
       "                        <td id=\"T_1eaa29f5_414b_11eb_9a8d_60f262b65606row1_col0\" class=\"data row1 col0\" >-0.128330</td>\n",
       "                        <td id=\"T_1eaa29f5_414b_11eb_9a8d_60f262b65606row1_col1\" class=\"data row1 col1\" >1.000000</td>\n",
       "                        <td id=\"T_1eaa29f5_414b_11eb_9a8d_60f262b65606row1_col2\" class=\"data row1 col2\" >-0.167532</td>\n",
       "                        <td id=\"T_1eaa29f5_414b_11eb_9a8d_60f262b65606row1_col3\" class=\"data row1 col3\" >-0.127688</td>\n",
       "                        <td id=\"T_1eaa29f5_414b_11eb_9a8d_60f262b65606row1_col4\" class=\"data row1 col4\" >-0.511027</td>\n",
       "                        <td id=\"T_1eaa29f5_414b_11eb_9a8d_60f262b65606row1_col5\" class=\"data row1 col5\" >-0.017310</td>\n",
       "                        <td id=\"T_1eaa29f5_414b_11eb_9a8d_60f262b65606row1_col6\" class=\"data row1 col6\" >-0.061967</td>\n",
       "                        <td id=\"T_1eaa29f5_414b_11eb_9a8d_60f262b65606row1_col7\" class=\"data row1 col7\" >0.250484</td>\n",
       "                        <td id=\"T_1eaa29f5_414b_11eb_9a8d_60f262b65606row1_col8\" class=\"data row1 col8\" >-0.159071</td>\n",
       "                        <td id=\"T_1eaa29f5_414b_11eb_9a8d_60f262b65606row1_col9\" class=\"data row1 col9\" >0.489932</td>\n",
       "                        <td id=\"T_1eaa29f5_414b_11eb_9a8d_60f262b65606row1_col10\" class=\"data row1 col10\" >-0.397303</td>\n",
       "                        <td id=\"T_1eaa29f5_414b_11eb_9a8d_60f262b65606row1_col11\" class=\"data row1 col11\" >-0.290247</td>\n",
       "            </tr>\n",
       "            <tr>\n",
       "                        <th id=\"T_1eaa29f5_414b_11eb_9a8d_60f262b65606level0_row2\" class=\"row_heading level0 row2\" >x3</th>\n",
       "                        <td id=\"T_1eaa29f5_414b_11eb_9a8d_60f262b65606row2_col0\" class=\"data row2 col0\" >-0.343222</td>\n",
       "                        <td id=\"T_1eaa29f5_414b_11eb_9a8d_60f262b65606row2_col1\" class=\"data row2 col1\" >-0.167532</td>\n",
       "                        <td id=\"T_1eaa29f5_414b_11eb_9a8d_60f262b65606row2_col2\" class=\"data row2 col2\" >1.000000</td>\n",
       "                        <td id=\"T_1eaa29f5_414b_11eb_9a8d_60f262b65606row2_col3\" class=\"data row2 col3\" >-0.044367</td>\n",
       "                        <td id=\"T_1eaa29f5_414b_11eb_9a8d_60f262b65606row2_col4\" class=\"data row2 col4\" >-0.037546</td>\n",
       "                        <td id=\"T_1eaa29f5_414b_11eb_9a8d_60f262b65606row2_col5\" class=\"data row2 col5\" >-0.045081</td>\n",
       "                        <td id=\"T_1eaa29f5_414b_11eb_9a8d_60f262b65606row2_col6\" class=\"data row2 col6\" >0.192856</td>\n",
       "                        <td id=\"T_1eaa29f5_414b_11eb_9a8d_60f262b65606row2_col7\" class=\"data row2 col7\" >-0.533472</td>\n",
       "                        <td id=\"T_1eaa29f5_414b_11eb_9a8d_60f262b65606row2_col8\" class=\"data row2 col8\" >0.211517</td>\n",
       "                        <td id=\"T_1eaa29f5_414b_11eb_9a8d_60f262b65606row2_col9\" class=\"data row2 col9\" >-0.405843</td>\n",
       "                        <td id=\"T_1eaa29f5_414b_11eb_9a8d_60f262b65606row2_col10\" class=\"data row2 col10\" >0.251416</td>\n",
       "                        <td id=\"T_1eaa29f5_414b_11eb_9a8d_60f262b65606row2_col11\" class=\"data row2 col11\" >-0.376414</td>\n",
       "            </tr>\n",
       "            <tr>\n",
       "                        <th id=\"T_1eaa29f5_414b_11eb_9a8d_60f262b65606level0_row3\" class=\"row_heading level0 row3\" >x4</th>\n",
       "                        <td id=\"T_1eaa29f5_414b_11eb_9a8d_60f262b65606row3_col0\" class=\"data row3 col0\" >0.148338</td>\n",
       "                        <td id=\"T_1eaa29f5_414b_11eb_9a8d_60f262b65606row3_col1\" class=\"data row3 col1\" >-0.127688</td>\n",
       "                        <td id=\"T_1eaa29f5_414b_11eb_9a8d_60f262b65606row3_col2\" class=\"data row3 col2\" >-0.044367</td>\n",
       "                        <td id=\"T_1eaa29f5_414b_11eb_9a8d_60f262b65606row3_col3\" class=\"data row3 col3\" >1.000000</td>\n",
       "                        <td id=\"T_1eaa29f5_414b_11eb_9a8d_60f262b65606row3_col4\" class=\"data row3 col4\" >-0.058117</td>\n",
       "                        <td id=\"T_1eaa29f5_414b_11eb_9a8d_60f262b65606row3_col5\" class=\"data row3 col5\" >0.288235</td>\n",
       "                        <td id=\"T_1eaa29f5_414b_11eb_9a8d_60f262b65606row3_col6\" class=\"data row3 col6\" >-0.219120</td>\n",
       "                        <td id=\"T_1eaa29f5_414b_11eb_9a8d_60f262b65606row3_col7\" class=\"data row3 col7\" >-0.333291</td>\n",
       "                        <td id=\"T_1eaa29f5_414b_11eb_9a8d_60f262b65606row3_col8\" class=\"data row3 col8\" >-0.104060</td>\n",
       "                        <td id=\"T_1eaa29f5_414b_11eb_9a8d_60f262b65606row3_col9\" class=\"data row3 col9\" >-0.007152</td>\n",
       "                        <td id=\"T_1eaa29f5_414b_11eb_9a8d_60f262b65606row3_col10\" class=\"data row3 col10\" >0.568115</td>\n",
       "                        <td id=\"T_1eaa29f5_414b_11eb_9a8d_60f262b65606row3_col11\" class=\"data row3 col11\" >-0.163343</td>\n",
       "            </tr>\n",
       "            <tr>\n",
       "                        <th id=\"T_1eaa29f5_414b_11eb_9a8d_60f262b65606level0_row4\" class=\"row_heading level0 row4\" >x5</th>\n",
       "                        <td id=\"T_1eaa29f5_414b_11eb_9a8d_60f262b65606row4_col0\" class=\"data row4 col0\" >-0.082265</td>\n",
       "                        <td id=\"T_1eaa29f5_414b_11eb_9a8d_60f262b65606row4_col1\" class=\"data row4 col1\" >-0.511027</td>\n",
       "                        <td id=\"T_1eaa29f5_414b_11eb_9a8d_60f262b65606row4_col2\" class=\"data row4 col2\" >-0.037546</td>\n",
       "                        <td id=\"T_1eaa29f5_414b_11eb_9a8d_60f262b65606row4_col3\" class=\"data row4 col3\" >-0.058117</td>\n",
       "                        <td id=\"T_1eaa29f5_414b_11eb_9a8d_60f262b65606row4_col4\" class=\"data row4 col4\" >1.000000</td>\n",
       "                        <td id=\"T_1eaa29f5_414b_11eb_9a8d_60f262b65606row4_col5\" class=\"data row4 col5\" >-0.476623</td>\n",
       "                        <td id=\"T_1eaa29f5_414b_11eb_9a8d_60f262b65606row4_col6\" class=\"data row4 col6\" >0.228541</td>\n",
       "                        <td id=\"T_1eaa29f5_414b_11eb_9a8d_60f262b65606row4_col7\" class=\"data row4 col7\" >-0.084957</td>\n",
       "                        <td id=\"T_1eaa29f5_414b_11eb_9a8d_60f262b65606row4_col8\" class=\"data row4 col8\" >0.284904</td>\n",
       "                        <td id=\"T_1eaa29f5_414b_11eb_9a8d_60f262b65606row4_col9\" class=\"data row4 col9\" >-0.327000</td>\n",
       "                        <td id=\"T_1eaa29f5_414b_11eb_9a8d_60f262b65606row4_col10\" class=\"data row4 col10\" >-0.058278</td>\n",
       "                        <td id=\"T_1eaa29f5_414b_11eb_9a8d_60f262b65606row4_col11\" class=\"data row4 col11\" >0.329247</td>\n",
       "            </tr>\n",
       "            <tr>\n",
       "                        <th id=\"T_1eaa29f5_414b_11eb_9a8d_60f262b65606level0_row5\" class=\"row_heading level0 row5\" >x6</th>\n",
       "                        <td id=\"T_1eaa29f5_414b_11eb_9a8d_60f262b65606row5_col0\" class=\"data row5 col0\" >-0.088297</td>\n",
       "                        <td id=\"T_1eaa29f5_414b_11eb_9a8d_60f262b65606row5_col1\" class=\"data row5 col1\" >-0.017310</td>\n",
       "                        <td id=\"T_1eaa29f5_414b_11eb_9a8d_60f262b65606row5_col2\" class=\"data row5 col2\" >-0.045081</td>\n",
       "                        <td id=\"T_1eaa29f5_414b_11eb_9a8d_60f262b65606row5_col3\" class=\"data row5 col3\" >0.288235</td>\n",
       "                        <td id=\"T_1eaa29f5_414b_11eb_9a8d_60f262b65606row5_col4\" class=\"data row5 col4\" >-0.476623</td>\n",
       "                        <td id=\"T_1eaa29f5_414b_11eb_9a8d_60f262b65606row5_col5\" class=\"data row5 col5\" >1.000000</td>\n",
       "                        <td id=\"T_1eaa29f5_414b_11eb_9a8d_60f262b65606row5_col6\" class=\"data row5 col6\" >0.000063</td>\n",
       "                        <td id=\"T_1eaa29f5_414b_11eb_9a8d_60f262b65606row5_col7\" class=\"data row5 col7\" >0.058134</td>\n",
       "                        <td id=\"T_1eaa29f5_414b_11eb_9a8d_60f262b65606row5_col8\" class=\"data row5 col8\" >-0.188257</td>\n",
       "                        <td id=\"T_1eaa29f5_414b_11eb_9a8d_60f262b65606row5_col9\" class=\"data row5 col9\" >0.094271</td>\n",
       "                        <td id=\"T_1eaa29f5_414b_11eb_9a8d_60f262b65606row5_col10\" class=\"data row5 col10\" >0.038777</td>\n",
       "                        <td id=\"T_1eaa29f5_414b_11eb_9a8d_60f262b65606row5_col11\" class=\"data row5 col11\" >-0.084539</td>\n",
       "            </tr>\n",
       "            <tr>\n",
       "                        <th id=\"T_1eaa29f5_414b_11eb_9a8d_60f262b65606level0_row6\" class=\"row_heading level0 row6\" >x7</th>\n",
       "                        <td id=\"T_1eaa29f5_414b_11eb_9a8d_60f262b65606row6_col0\" class=\"data row6 col0\" >-0.281078</td>\n",
       "                        <td id=\"T_1eaa29f5_414b_11eb_9a8d_60f262b65606row6_col1\" class=\"data row6 col1\" >-0.061967</td>\n",
       "                        <td id=\"T_1eaa29f5_414b_11eb_9a8d_60f262b65606row6_col2\" class=\"data row6 col2\" >0.192856</td>\n",
       "                        <td id=\"T_1eaa29f5_414b_11eb_9a8d_60f262b65606row6_col3\" class=\"data row6 col3\" >-0.219120</td>\n",
       "                        <td id=\"T_1eaa29f5_414b_11eb_9a8d_60f262b65606row6_col4\" class=\"data row6 col4\" >0.228541</td>\n",
       "                        <td id=\"T_1eaa29f5_414b_11eb_9a8d_60f262b65606row6_col5\" class=\"data row6 col5\" >0.000063</td>\n",
       "                        <td id=\"T_1eaa29f5_414b_11eb_9a8d_60f262b65606row6_col6\" class=\"data row6 col6\" >1.000000</td>\n",
       "                        <td id=\"T_1eaa29f5_414b_11eb_9a8d_60f262b65606row6_col7\" class=\"data row6 col7\" >-0.059085</td>\n",
       "                        <td id=\"T_1eaa29f5_414b_11eb_9a8d_60f262b65606row6_col8\" class=\"data row6 col8\" >0.212198</td>\n",
       "                        <td id=\"T_1eaa29f5_414b_11eb_9a8d_60f262b65606row6_col9\" class=\"data row6 col9\" >-0.015100</td>\n",
       "                        <td id=\"T_1eaa29f5_414b_11eb_9a8d_60f262b65606row6_col10\" class=\"data row6 col10\" >-0.088188</td>\n",
       "                        <td id=\"T_1eaa29f5_414b_11eb_9a8d_60f262b65606row6_col11\" class=\"data row6 col11\" >-0.053454</td>\n",
       "            </tr>\n",
       "            <tr>\n",
       "                        <th id=\"T_1eaa29f5_414b_11eb_9a8d_60f262b65606level0_row7\" class=\"row_heading level0 row7\" >x8</th>\n",
       "                        <td id=\"T_1eaa29f5_414b_11eb_9a8d_60f262b65606row7_col0\" class=\"data row7 col0\" >0.233454</td>\n",
       "                        <td id=\"T_1eaa29f5_414b_11eb_9a8d_60f262b65606row7_col1\" class=\"data row7 col1\" >0.250484</td>\n",
       "                        <td id=\"T_1eaa29f5_414b_11eb_9a8d_60f262b65606row7_col2\" class=\"data row7 col2\" >-0.533472</td>\n",
       "                        <td id=\"T_1eaa29f5_414b_11eb_9a8d_60f262b65606row7_col3\" class=\"data row7 col3\" >-0.333291</td>\n",
       "                        <td id=\"T_1eaa29f5_414b_11eb_9a8d_60f262b65606row7_col4\" class=\"data row7 col4\" >-0.084957</td>\n",
       "                        <td id=\"T_1eaa29f5_414b_11eb_9a8d_60f262b65606row7_col5\" class=\"data row7 col5\" >0.058134</td>\n",
       "                        <td id=\"T_1eaa29f5_414b_11eb_9a8d_60f262b65606row7_col6\" class=\"data row7 col6\" >-0.059085</td>\n",
       "                        <td id=\"T_1eaa29f5_414b_11eb_9a8d_60f262b65606row7_col7\" class=\"data row7 col7\" >1.000000</td>\n",
       "                        <td id=\"T_1eaa29f5_414b_11eb_9a8d_60f262b65606row7_col8\" class=\"data row7 col8\" >-0.100246</td>\n",
       "                        <td id=\"T_1eaa29f5_414b_11eb_9a8d_60f262b65606row7_col9\" class=\"data row7 col9\" >-0.014849</td>\n",
       "                        <td id=\"T_1eaa29f5_414b_11eb_9a8d_60f262b65606row7_col10\" class=\"data row7 col10\" >-0.575807</td>\n",
       "                        <td id=\"T_1eaa29f5_414b_11eb_9a8d_60f262b65606row7_col11\" class=\"data row7 col11\" >0.105183</td>\n",
       "            </tr>\n",
       "            <tr>\n",
       "                        <th id=\"T_1eaa29f5_414b_11eb_9a8d_60f262b65606level0_row8\" class=\"row_heading level0 row8\" >x9</th>\n",
       "                        <td id=\"T_1eaa29f5_414b_11eb_9a8d_60f262b65606row8_col0\" class=\"data row8 col0\" >0.503309</td>\n",
       "                        <td id=\"T_1eaa29f5_414b_11eb_9a8d_60f262b65606row8_col1\" class=\"data row8 col1\" >-0.159071</td>\n",
       "                        <td id=\"T_1eaa29f5_414b_11eb_9a8d_60f262b65606row8_col2\" class=\"data row8 col2\" >0.211517</td>\n",
       "                        <td id=\"T_1eaa29f5_414b_11eb_9a8d_60f262b65606row8_col3\" class=\"data row8 col3\" >-0.104060</td>\n",
       "                        <td id=\"T_1eaa29f5_414b_11eb_9a8d_60f262b65606row8_col4\" class=\"data row8 col4\" >0.284904</td>\n",
       "                        <td id=\"T_1eaa29f5_414b_11eb_9a8d_60f262b65606row8_col5\" class=\"data row8 col5\" >-0.188257</td>\n",
       "                        <td id=\"T_1eaa29f5_414b_11eb_9a8d_60f262b65606row8_col6\" class=\"data row8 col6\" >0.212198</td>\n",
       "                        <td id=\"T_1eaa29f5_414b_11eb_9a8d_60f262b65606row8_col7\" class=\"data row8 col7\" >-0.100246</td>\n",
       "                        <td id=\"T_1eaa29f5_414b_11eb_9a8d_60f262b65606row8_col8\" class=\"data row8 col8\" >1.000000</td>\n",
       "                        <td id=\"T_1eaa29f5_414b_11eb_9a8d_60f262b65606row8_col9\" class=\"data row8 col9\" >-0.417446</td>\n",
       "                        <td id=\"T_1eaa29f5_414b_11eb_9a8d_60f262b65606row8_col10\" class=\"data row8 col10\" >0.286377</td>\n",
       "                        <td id=\"T_1eaa29f5_414b_11eb_9a8d_60f262b65606row8_col11\" class=\"data row8 col11\" >0.384590</td>\n",
       "            </tr>\n",
       "            <tr>\n",
       "                        <th id=\"T_1eaa29f5_414b_11eb_9a8d_60f262b65606level0_row9\" class=\"row_heading level0 row9\" >x10</th>\n",
       "                        <td id=\"T_1eaa29f5_414b_11eb_9a8d_60f262b65606row9_col0\" class=\"data row9 col0\" >-0.191495</td>\n",
       "                        <td id=\"T_1eaa29f5_414b_11eb_9a8d_60f262b65606row9_col1\" class=\"data row9 col1\" >0.489932</td>\n",
       "                        <td id=\"T_1eaa29f5_414b_11eb_9a8d_60f262b65606row9_col2\" class=\"data row9 col2\" >-0.405843</td>\n",
       "                        <td id=\"T_1eaa29f5_414b_11eb_9a8d_60f262b65606row9_col3\" class=\"data row9 col3\" >-0.007152</td>\n",
       "                        <td id=\"T_1eaa29f5_414b_11eb_9a8d_60f262b65606row9_col4\" class=\"data row9 col4\" >-0.327000</td>\n",
       "                        <td id=\"T_1eaa29f5_414b_11eb_9a8d_60f262b65606row9_col5\" class=\"data row9 col5\" >0.094271</td>\n",
       "                        <td id=\"T_1eaa29f5_414b_11eb_9a8d_60f262b65606row9_col6\" class=\"data row9 col6\" >-0.015100</td>\n",
       "                        <td id=\"T_1eaa29f5_414b_11eb_9a8d_60f262b65606row9_col7\" class=\"data row9 col7\" >-0.014849</td>\n",
       "                        <td id=\"T_1eaa29f5_414b_11eb_9a8d_60f262b65606row9_col8\" class=\"data row9 col8\" >-0.417446</td>\n",
       "                        <td id=\"T_1eaa29f5_414b_11eb_9a8d_60f262b65606row9_col9\" class=\"data row9 col9\" >1.000000</td>\n",
       "                        <td id=\"T_1eaa29f5_414b_11eb_9a8d_60f262b65606row9_col10\" class=\"data row9 col10\" >-0.318334</td>\n",
       "                        <td id=\"T_1eaa29f5_414b_11eb_9a8d_60f262b65606row9_col11\" class=\"data row9 col11\" >0.234481</td>\n",
       "            </tr>\n",
       "            <tr>\n",
       "                        <th id=\"T_1eaa29f5_414b_11eb_9a8d_60f262b65606level0_row10\" class=\"row_heading level0 row10\" >x11</th>\n",
       "                        <td id=\"T_1eaa29f5_414b_11eb_9a8d_60f262b65606row10_col0\" class=\"data row10 col0\" >0.378637</td>\n",
       "                        <td id=\"T_1eaa29f5_414b_11eb_9a8d_60f262b65606row10_col1\" class=\"data row10 col1\" >-0.397303</td>\n",
       "                        <td id=\"T_1eaa29f5_414b_11eb_9a8d_60f262b65606row10_col2\" class=\"data row10 col2\" >0.251416</td>\n",
       "                        <td id=\"T_1eaa29f5_414b_11eb_9a8d_60f262b65606row10_col3\" class=\"data row10 col3\" >0.568115</td>\n",
       "                        <td id=\"T_1eaa29f5_414b_11eb_9a8d_60f262b65606row10_col4\" class=\"data row10 col4\" >-0.058278</td>\n",
       "                        <td id=\"T_1eaa29f5_414b_11eb_9a8d_60f262b65606row10_col5\" class=\"data row10 col5\" >0.038777</td>\n",
       "                        <td id=\"T_1eaa29f5_414b_11eb_9a8d_60f262b65606row10_col6\" class=\"data row10 col6\" >-0.088188</td>\n",
       "                        <td id=\"T_1eaa29f5_414b_11eb_9a8d_60f262b65606row10_col7\" class=\"data row10 col7\" >-0.575807</td>\n",
       "                        <td id=\"T_1eaa29f5_414b_11eb_9a8d_60f262b65606row10_col8\" class=\"data row10 col8\" >0.286377</td>\n",
       "                        <td id=\"T_1eaa29f5_414b_11eb_9a8d_60f262b65606row10_col9\" class=\"data row10 col9\" >-0.318334</td>\n",
       "                        <td id=\"T_1eaa29f5_414b_11eb_9a8d_60f262b65606row10_col10\" class=\"data row10 col10\" >1.000000</td>\n",
       "                        <td id=\"T_1eaa29f5_414b_11eb_9a8d_60f262b65606row10_col11\" class=\"data row10 col11\" >0.087389</td>\n",
       "            </tr>\n",
       "            <tr>\n",
       "                        <th id=\"T_1eaa29f5_414b_11eb_9a8d_60f262b65606level0_row11\" class=\"row_heading level0 row11\" >x12</th>\n",
       "                        <td id=\"T_1eaa29f5_414b_11eb_9a8d_60f262b65606row11_col0\" class=\"data row11 col0\" >0.422265</td>\n",
       "                        <td id=\"T_1eaa29f5_414b_11eb_9a8d_60f262b65606row11_col1\" class=\"data row11 col1\" >-0.290247</td>\n",
       "                        <td id=\"T_1eaa29f5_414b_11eb_9a8d_60f262b65606row11_col2\" class=\"data row11 col2\" >-0.376414</td>\n",
       "                        <td id=\"T_1eaa29f5_414b_11eb_9a8d_60f262b65606row11_col3\" class=\"data row11 col3\" >-0.163343</td>\n",
       "                        <td id=\"T_1eaa29f5_414b_11eb_9a8d_60f262b65606row11_col4\" class=\"data row11 col4\" >0.329247</td>\n",
       "                        <td id=\"T_1eaa29f5_414b_11eb_9a8d_60f262b65606row11_col5\" class=\"data row11 col5\" >-0.084539</td>\n",
       "                        <td id=\"T_1eaa29f5_414b_11eb_9a8d_60f262b65606row11_col6\" class=\"data row11 col6\" >-0.053454</td>\n",
       "                        <td id=\"T_1eaa29f5_414b_11eb_9a8d_60f262b65606row11_col7\" class=\"data row11 col7\" >0.105183</td>\n",
       "                        <td id=\"T_1eaa29f5_414b_11eb_9a8d_60f262b65606row11_col8\" class=\"data row11 col8\" >0.384590</td>\n",
       "                        <td id=\"T_1eaa29f5_414b_11eb_9a8d_60f262b65606row11_col9\" class=\"data row11 col9\" >0.234481</td>\n",
       "                        <td id=\"T_1eaa29f5_414b_11eb_9a8d_60f262b65606row11_col10\" class=\"data row11 col10\" >0.087389</td>\n",
       "                        <td id=\"T_1eaa29f5_414b_11eb_9a8d_60f262b65606row11_col11\" class=\"data row11 col11\" >1.000000</td>\n",
       "            </tr>\n",
       "    </tbody></table>"
      ],
      "text/plain": [
       "<pandas.io.formats.style.Styler at 0x1fe38045940>"
      ]
     },
     "execution_count": 9,
     "metadata": {},
     "output_type": "execute_result"
    }
   ],
   "source": [
    "X.corr().style.background_gradient(cmap='coolwarm')"
   ]
  },
  {
   "cell_type": "markdown",
   "metadata": {
    "id": "BFSsyFzeDpyM"
   },
   "source": [
    "## train test split "
   ]
  },
  {
   "cell_type": "code",
   "execution_count": 10,
   "metadata": {
    "id": "YEcPfbCZDpyP"
   },
   "outputs": [],
   "source": [
    "X_train, X_test, y_train, y_test = train_test_split(X, y, test_size=0.2, stratify=y, random_state=42)"
   ]
  },
  {
   "cell_type": "code",
   "execution_count": 11,
   "metadata": {
    "colab": {
     "base_uri": "https://localhost:8080/"
    },
    "id": "C0PPRL7EDpyQ",
    "outputId": "82374ced-86b0-4945-8b17-cc8c1cd38a70"
   },
   "outputs": [
    {
     "name": "stdout",
     "output_type": "stream",
     "text": [
      "(240000, 12)\n",
      "(60000, 12)\n",
      "(240000,)\n",
      "(60000,)\n"
     ]
    }
   ],
   "source": [
    "ele = [X_train, X_test, y_train, y_test]\n",
    "for element in ele:\n",
    "    print(element.shape)"
   ]
  },
  {
   "cell_type": "code",
   "execution_count": 12,
   "metadata": {
    "colab": {
     "base_uri": "https://localhost:8080/"
    },
    "id": "GsgTKjxJDpyR",
    "outputId": "3e78eff9-1752-45e2-ec83-d4aa60cc075a"
   },
   "outputs": [
    {
     "name": "stdout",
     "output_type": "stream",
     "text": [
      "1    128862\n",
      "0    111138\n",
      "Name: y, dtype: int64\n",
      "1    32215\n",
      "0    27785\n",
      "Name: y, dtype: int64\n"
     ]
    }
   ],
   "source": [
    "print(y_train.value_counts())\n",
    "print(y_test.value_counts())"
   ]
  },
  {
   "cell_type": "markdown",
   "metadata": {
    "id": "0SqTy4yADpyS"
   },
   "source": [
    " ## logistic Regression"
   ]
  },
  {
   "cell_type": "code",
   "execution_count": 13,
   "metadata": {
    "colab": {
     "base_uri": "https://localhost:8080/"
    },
    "id": "_W06J9RRDpyU",
    "outputId": "05f1bca0-a195-4533-bbe7-7508fdd5c03c"
   },
   "outputs": [
    {
     "data": {
      "text/plain": [
       "LogisticRegression(l1_ratio=0.7, penalty='elasticnet', random_state=42,\n",
       "                   solver='saga')"
      ]
     },
     "execution_count": 13,
     "metadata": {},
     "output_type": "execute_result"
    }
   ],
   "source": [
    "lr = LogisticRegression(random_state=42, penalty='elasticnet', solver='saga', l1_ratio=0.7)\n",
    "lr.fit(X_train, y_train)"
   ]
  },
  {
   "cell_type": "code",
   "execution_count": 14,
   "metadata": {
    "id": "viYaI77aDpyV"
   },
   "outputs": [],
   "source": [
    "# train/test acc\n",
    "y_pred_train = lr.predict(X_train)\n",
    "y_pred_test = lr.predict(X_test)"
   ]
  },
  {
   "cell_type": "code",
   "execution_count": 15,
   "metadata": {
    "colab": {
     "base_uri": "https://localhost:8080/"
    },
    "id": "mymDS-M0DpyW",
    "outputId": "903175fb-cb3d-458f-8364-43cdf47cfc42"
   },
   "outputs": [
    {
     "name": "stderr",
     "output_type": "stream",
     "text": [
      "c:\\users\\atikant negi\\ml\\lib\\site-packages\\sklearn\\metrics\\_classification.py:1221: UndefinedMetricWarning: Precision and F-score are ill-defined and being set to 0.0 in labels with no predicted samples. Use `zero_division` parameter to control this behavior.\n",
      "  _warn_prf(average, modifier, msg_start, len(result))\n"
     ]
    },
    {
     "name": "stdout",
     "output_type": "stream",
     "text": [
      "              precision    recall  f1-score   support\n",
      "\n",
      "           0       0.00      0.00      0.00    111138\n",
      "           1       0.54      1.00      0.70    128862\n",
      "\n",
      "    accuracy                           0.54    240000\n",
      "   macro avg       0.27      0.50      0.35    240000\n",
      "weighted avg       0.29      0.54      0.38    240000\n",
      "\n"
     ]
    }
   ],
   "source": [
    "# train accuracy report\n",
    "print(classification_report(y_train, y_pred_train))"
   ]
  },
  {
   "cell_type": "code",
   "execution_count": 16,
   "metadata": {
    "colab": {
     "base_uri": "https://localhost:8080/"
    },
    "id": "5EXGTlkGDpyX",
    "outputId": "ed865939-81ef-4965-e4a7-64c318cf6e50"
   },
   "outputs": [
    {
     "name": "stdout",
     "output_type": "stream",
     "text": [
      "              precision    recall  f1-score   support\n",
      "\n",
      "           0       0.00      0.00      0.00     27785\n",
      "           1       0.54      1.00      0.70     32215\n",
      "\n",
      "    accuracy                           0.54     60000\n",
      "   macro avg       0.27      0.50      0.35     60000\n",
      "weighted avg       0.29      0.54      0.38     60000\n",
      "\n"
     ]
    }
   ],
   "source": [
    "# test accuracy report\n",
    "print(classification_report(y_test, y_pred_test))"
   ]
  },
  {
   "cell_type": "markdown",
   "metadata": {
    "id": "HWi41aBsDpyY"
   },
   "source": [
    "## Random Forest"
   ]
  },
  {
   "cell_type": "code",
   "execution_count": 17,
   "metadata": {
    "colab": {
     "base_uri": "https://localhost:8080/"
    },
    "id": "G4b_qXkPDpyZ",
    "outputId": "5522ca9e-b9c8-4d39-aa94-ebe2e789351c"
   },
   "outputs": [
    {
     "data": {
      "text/plain": [
       "RandomForestClassifier(max_depth=5, n_estimators=500, n_jobs=-1,\n",
       "                       random_state=42)"
      ]
     },
     "execution_count": 17,
     "metadata": {},
     "output_type": "execute_result"
    }
   ],
   "source": [
    "clf = RandomForestClassifier(n_estimators=500, max_depth=5, random_state=42, n_jobs=-1)\n",
    "clf.fit(X_train, y_train)"
   ]
  },
  {
   "cell_type": "code",
   "execution_count": 18,
   "metadata": {
    "id": "2HvpC-R4Dpya"
   },
   "outputs": [],
   "source": [
    "# train/test acc\n",
    "y_pred_train = clf.predict(X_train)\n",
    "y_pred_test = clf.predict(X_test)"
   ]
  },
  {
   "cell_type": "code",
   "execution_count": 19,
   "metadata": {
    "id": "xa3LK5d0Dpyb",
    "outputId": "6e8cccf5-ce15-4a13-b64e-e6df83aa6aae"
   },
   "outputs": [
    {
     "name": "stdout",
     "output_type": "stream",
     "text": [
      "              precision    recall  f1-score   support\n",
      "\n",
      "           0       0.66      0.08      0.14    111138\n",
      "           1       0.55      0.97      0.70    128862\n",
      "\n",
      "    accuracy                           0.55    240000\n",
      "   macro avg       0.60      0.52      0.42    240000\n",
      "weighted avg       0.60      0.55      0.44    240000\n",
      "\n",
      "0.5539125\n"
     ]
    }
   ],
   "source": [
    "# train acc\n",
    "print(classification_report(y_train, y_pred_train))\n",
    "print(accuracy_score(y_train, y_pred_train))"
   ]
  },
  {
   "cell_type": "code",
   "execution_count": 20,
   "metadata": {
    "id": "_uZxOiedDpyc",
    "outputId": "ed1c5063-8e5f-45ce-932d-6dde8173f804"
   },
   "outputs": [
    {
     "name": "stdout",
     "output_type": "stream",
     "text": [
      "              precision    recall  f1-score   support\n",
      "\n",
      "           0       0.62      0.07      0.13     27785\n",
      "           1       0.55      0.96      0.70     32215\n",
      "\n",
      "    accuracy                           0.55     60000\n",
      "   macro avg       0.58      0.52      0.41     60000\n",
      "weighted avg       0.58      0.55      0.43     60000\n",
      "\n"
     ]
    }
   ],
   "source": [
    "# test acc\n",
    "print(classification_report(y_test, y_pred_test))"
   ]
  },
  {
   "cell_type": "code",
   "execution_count": 21,
   "metadata": {
    "id": "x-ZgJS57Dpyd",
    "outputId": "39024dff-2b23-44e5-a58d-c0accde5981c"
   },
   "outputs": [
    {
     "name": "stdout",
     "output_type": "stream",
     "text": [
      "x1 = 0.0348893013003428\n",
      "x2 = 0.05860473675949498\n",
      "x3 = 0.06982262232574833\n",
      "x4 = 0.0987615441653527\n",
      "x5 = 0.03975724068695697\n",
      "x6 = 0.132409769320012\n",
      "x7 = 0.12781932730104714\n",
      "x8 = 0.20001604590451097\n",
      "x9 = 0.04009357474199099\n",
      "x10 = 0.016513245714921573\n",
      "x11 = 0.07154253535315297\n",
      "x12 = 0.10977005642646881\n"
     ]
    }
   ],
   "source": [
    "for x, imp in zip(X_train.columns, clf.feature_importances_):\n",
    "    print(f\"{x} = {imp}\")"
   ]
  },
  {
   "cell_type": "code",
   "execution_count": 22,
   "metadata": {
    "id": "5O6J8kThDpye",
    "outputId": "7a00a426-ac05-4b10-a16f-603bfbf78d11"
   },
   "outputs": [
    {
     "data": {
      "text/plain": [
       "RandomForestClassifier(max_depth=5, n_estimators=500, n_jobs=-1,\n",
       "                       random_state=42)"
      ]
     },
     "execution_count": 22,
     "metadata": {},
     "output_type": "execute_result"
    }
   ],
   "source": [
    "clf2 = RandomForestClassifier(n_estimators=500, max_depth=5, random_state=42, n_jobs=-1)\n",
    "clf2.fit(X_train[['x4', 'x6', 'x7', 'x8', 'x12']], y_train)"
   ]
  },
  {
   "cell_type": "code",
   "execution_count": 23,
   "metadata": {
    "id": "mzo43hL_Dpyf"
   },
   "outputs": [],
   "source": [
    "# train/test acc\n",
    "y_pred_train = clf2.predict(X_train[['x4', 'x6', 'x7', 'x8', 'x12']])\n",
    "y_pred_test = clf2.predict(X_test[['x4', 'x6', 'x7', 'x8', 'x12']])"
   ]
  },
  {
   "cell_type": "code",
   "execution_count": 24,
   "metadata": {
    "id": "GhaFO7-KDpyg",
    "outputId": "6ff4503e-c332-4c2c-cf46-ba9e6981e062"
   },
   "outputs": [
    {
     "name": "stdout",
     "output_type": "stream",
     "text": [
      "              precision    recall  f1-score   support\n",
      "\n",
      "           0       0.61      0.11      0.18    111138\n",
      "           1       0.55      0.94      0.69    128862\n",
      "\n",
      "    accuracy                           0.55    240000\n",
      "   macro avg       0.58      0.52      0.44    240000\n",
      "weighted avg       0.58      0.55      0.46    240000\n",
      "\n",
      "0.554125\n"
     ]
    }
   ],
   "source": [
    "# train acc\n",
    "print(classification_report(y_train, y_pred_train))\n",
    "print(accuracy_score(y_train, y_pred_train))"
   ]
  },
  {
   "cell_type": "code",
   "execution_count": 25,
   "metadata": {
    "id": "A9D0qW7wDpyh",
    "outputId": "f7e6d8c9-5d76-4969-eacd-0d4b70f9a00a"
   },
   "outputs": [
    {
     "name": "stdout",
     "output_type": "stream",
     "text": [
      "              precision    recall  f1-score   support\n",
      "\n",
      "           0       0.58      0.10      0.17     27785\n",
      "           1       0.55      0.94      0.69     32215\n",
      "\n",
      "    accuracy                           0.55     60000\n",
      "   macro avg       0.56      0.52      0.43     60000\n",
      "weighted avg       0.56      0.55      0.45     60000\n",
      "\n"
     ]
    }
   ],
   "source": [
    "# test acc\n",
    "print(classification_report(y_test, y_pred_test))"
   ]
  },
  {
   "cell_type": "markdown",
   "metadata": {
    "id": "r1yRGZlXDpyi"
   },
   "source": [
    "## PCA to reduce dim"
   ]
  },
  {
   "cell_type": "code",
   "execution_count": 26,
   "metadata": {
    "id": "U4hxEDFiDpyi"
   },
   "outputs": [],
   "source": [
    "pca = PCA(n_components=3)\n",
    "X_pca = pca.fit_transform(X_train)"
   ]
  },
  {
   "cell_type": "code",
   "execution_count": 27,
   "metadata": {
    "id": "_NT1sa91Dpyj",
    "outputId": "29969c80-e99b-44e4-c885-c34737f2559a"
   },
   "outputs": [
    {
     "data": {
      "text/plain": [
       "array([[-5.3067794 ,  3.34325827, -0.72224371],\n",
       "       [ 2.54264083, -0.87475818, -0.60193364],\n",
       "       [-0.73364431, -6.73507385, -1.81190553],\n",
       "       ...,\n",
       "       [-1.84017796,  2.93674212, -0.8320109 ],\n",
       "       [ 4.45848088,  3.36770618, -1.29242289],\n",
       "       [ 0.54041186, -1.0105803 , -3.90166722]])"
      ]
     },
     "execution_count": 27,
     "metadata": {},
     "output_type": "execute_result"
    }
   ],
   "source": [
    "X_pca"
   ]
  },
  {
   "cell_type": "code",
   "execution_count": 28,
   "metadata": {
    "id": "sisaeZmxDpyk",
    "outputId": "22aa62eb-4578-4baa-bc99-9c981eb1588d"
   },
   "outputs": [
    {
     "data": {
      "text/plain": [
       "RandomForestClassifier(max_depth=5, n_estimators=500, n_jobs=-1,\n",
       "                       random_state=42)"
      ]
     },
     "execution_count": 28,
     "metadata": {},
     "output_type": "execute_result"
    }
   ],
   "source": [
    "clf2.fit(X_pca, y_train)"
   ]
  },
  {
   "cell_type": "code",
   "execution_count": 29,
   "metadata": {
    "id": "HO0zyHjVDpyl"
   },
   "outputs": [],
   "source": [
    "# train/test acc\n",
    "y_pred_train = clf2.predict(X_pca)\n",
    "y_pred_test = clf2.predict(pca.transform(X_test))"
   ]
  },
  {
   "cell_type": "code",
   "execution_count": 30,
   "metadata": {
    "id": "ujE8M0U0Dpym",
    "outputId": "bded1111-3fe7-411d-cd71-54fc8fbb0cc9"
   },
   "outputs": [
    {
     "name": "stdout",
     "output_type": "stream",
     "text": [
      "              precision    recall  f1-score   support\n",
      "\n",
      "           0       0.59      0.07      0.12    111138\n",
      "           1       0.54      0.96      0.69    128862\n",
      "\n",
      "    accuracy                           0.55    240000\n",
      "   macro avg       0.57      0.51      0.41    240000\n",
      "weighted avg       0.57      0.55      0.43    240000\n",
      "\n",
      "0.54675\n"
     ]
    }
   ],
   "source": [
    "# train acc\n",
    "print(classification_report(y_train, y_pred_train))\n",
    "print(accuracy_score(y_train, y_pred_train))"
   ]
  },
  {
   "cell_type": "markdown",
   "metadata": {
    "id": "yE9lzqdVDpyn"
   },
   "source": [
    "## SVC"
   ]
  },
  {
   "cell_type": "code",
   "execution_count": null,
   "metadata": {
    "id": "z14ZvwO0Dpyo",
    "outputId": "61b069a2-4d95-4b16-c8c0-f876dae222cf"
   },
   "outputs": [],
   "source": [
    "clf = make_pipeline(StandardScaler(), SVC(gamma='auto'))\n",
    "clf.fit(X_train, y_train)"
   ]
  },
  {
   "cell_type": "code",
   "execution_count": null,
   "metadata": {
    "id": "l-JVu8ehDpyp"
   },
   "outputs": [],
   "source": [
    "# train/test acc\n",
    "y_pred_train = clf.predict(X_train)\n",
    "y_pred_test = clf.predict(X_test)"
   ]
  },
  {
   "cell_type": "code",
   "execution_count": null,
   "metadata": {
    "id": "otxnPV0cDpyp",
    "outputId": "fbdeff95-5950-44e4-870b-b596e0e533ec"
   },
   "outputs": [],
   "source": [
    "# train acc\n",
    "print(classification_report(y_train, y_pred_train))\n",
    "print(accuracy_score(y_train, y_pred_train))"
   ]
  },
  {
   "cell_type": "code",
   "execution_count": null,
   "metadata": {
    "id": "t49kFy86Dpyq",
    "outputId": "cb768504-3a5e-4198-bb28-0d4b366668ae"
   },
   "outputs": [],
   "source": [
    "# test acc\n",
    "print(classification_report(y_test, y_pred_test))"
   ]
  },
  {
   "cell_type": "markdown",
   "metadata": {
    "id": "iTur_sWGfyQ9"
   },
   "source": [
    "# Artificial n n (basic)"
   ]
  },
  {
   "cell_type": "code",
   "execution_count": null,
   "metadata": {
    "colab": {
     "base_uri": "https://localhost:8080/",
     "height": 195
    },
    "id": "DgDy7WwpkpHF",
    "outputId": "4295b767-5312-44fc-fd0a-4523d9e7cfeb"
   },
   "outputs": [],
   "source": [
    "# reading the data-set\n",
    "df = pd.read_csv(\"./train-io.txt\", header=None, delimiter=' ')\n",
    "df.head()\n"
   ]
  },
  {
   "cell_type": "code",
   "execution_count": null,
   "metadata": {
    "id": "jjg8Leawlx5R"
   },
   "outputs": [],
   "source": [
    "#seperating x's and y\n",
    "y=df.pop(12)\n",
    "x=df"
   ]
  },
  {
   "cell_type": "code",
   "execution_count": null,
   "metadata": {
    "colab": {
     "base_uri": "https://localhost:8080/"
    },
    "id": "SetOcm99mRzz",
    "outputId": "417c5cbf-2229-415a-b509-6e8f20539463"
   },
   "outputs": [],
   "source": [
    "#scaling the x's\n",
    "X_scale = min_max_scaler.fit_transform(x)\n",
    "X_scale"
   ]
  },
  {
   "cell_type": "code",
   "execution_count": null,
   "metadata": {
    "id": "UOwGipsXmi53"
   },
   "outputs": [],
   "source": [
    "#spliting the dataset in train and validation\n",
    "X_train, X_test, y_train, y_test = train_test_split(X_scale, y, test_size=0.2, random_state = 4)"
   ]
  },
  {
   "cell_type": "code",
   "execution_count": null,
   "metadata": {
    "id": "l0MT23ZonIGn"
   },
   "outputs": [],
   "source": [
    "#creating layers and setting the activation function\n",
    "model = Sequential([\n",
    "    Dense(60, activation='relu', input_shape=( 12 ,)),\n",
    "    Dense(30, activation='relu'),\n",
    "    Dense(15, activation='relu'),\n",
    "    Dense(1, activation='sigmoid')\n",
    "])"
   ]
  },
  {
   "cell_type": "code",
   "execution_count": null,
   "metadata": {
    "id": "KZpz7iGOn5km"
   },
   "outputs": [],
   "source": [
    "#compiler settings for the model\n",
    "model.compile(optimizer='adam',\n",
    "              loss='binary_crossentropy',\n",
    "              metrics=['accuracy'])"
   ]
  },
  {
   "cell_type": "code",
   "execution_count": null,
   "metadata": {
    "colab": {
     "base_uri": "https://localhost:8080/"
    },
    "id": "YMvszDLBoBzg",
    "outputId": "5a2275b2-dc16-45c5-9d9b-bd2fa65a051e"
   },
   "outputs": [],
   "source": [
    "# callback to stop epoch in case of high loss \n",
    "es = EarlyStopping(monitor='val_loss', mode='min',patience=5)\n",
    "hist = model.fit(X_train, y_train,\n",
    "          batch_size=20, epochs=50, validation_split=0.2,callbacks=[es])"
   ]
  },
  {
   "cell_type": "code",
   "execution_count": null,
   "metadata": {
    "colab": {
     "base_uri": "https://localhost:8080/",
     "height": 325
    },
    "id": "M3RzAbz7oRNU",
    "outputId": "94fc25f7-a8e5-4d1f-82ed-398535c52e48"
   },
   "outputs": [],
   "source": [
    "#visualize the training loss and the validation loss to see if the model is overfitting\n",
    "plt.plot(hist.history['loss'])\n",
    "plt.plot(hist.history['val_loss'])\n",
    "plt.title('Model loss')\n",
    "plt.ylabel('Loss')\n",
    "plt.xlabel('Epoch')\n",
    "plt.legend(['Train', 'Val'], loc='upper right')\n",
    "plt.show()"
   ]
  },
  {
   "cell_type": "code",
   "execution_count": null,
   "metadata": {
    "colab": {
     "base_uri": "https://localhost:8080/",
     "height": 325
    },
    "id": "cVDdWiRVoxzF",
    "outputId": "b3d80288-a3de-495f-e9d3-1b5fce821c6f"
   },
   "outputs": [],
   "source": [
    "#visualize the training accuracy and the validation accuracy to see if the model is overfitting\n",
    "plt.plot(hist.history['accuracy'])\n",
    "plt.plot(hist.history['val_accuracy'])\n",
    "plt.title('Model accuracy')\n",
    "plt.ylabel('Accuracy')\n",
    "plt.xlabel('Epoch')\n",
    "plt.legend(['Train', 'Val'], loc='lower right')\n",
    "plt.show()"
   ]
  },
  {
   "cell_type": "code",
   "execution_count": null,
   "metadata": {
    "colab": {
     "base_uri": "https://localhost:8080/"
    },
    "id": "7EPqVV6Xo4KL",
    "outputId": "5573d88d-5f22-4eb2-d8dc-ab50ec4ae3e3"
   },
   "outputs": [],
   "source": [
    "#Make a prediction & print the actual values\n",
    "prediction = model.predict(X_test)\n",
    "prediction  = [1 if y>=0.5 else 0 for y in prediction] #Threshold\n",
    "print(prediction)\n",
    "print(y_test)"
   ]
  },
  {
   "cell_type": "code",
   "execution_count": null,
   "metadata": {
    "colab": {
     "base_uri": "https://localhost:8080/"
    },
    "id": "awnGOYyho5J8",
    "outputId": "8f2923eb-e1d7-40e8-e33b-ca300548c765"
   },
   "outputs": [],
   "source": [
    "pred = model.predict(X_train)\n",
    "pred  = [1 if y>=0.5 else 0 for y in pred] #Threshold\n",
    "print(classification_report(y_train ,pred ))\n",
    "print('Confusion Matrix: \\n',confusion_matrix(y_train,pred))\n",
    "print()\n",
    "print('Accuracy: ', accuracy_score(y_train,pred))\n",
    "print()"
   ]
  },
  {
   "cell_type": "code",
   "execution_count": null,
   "metadata": {
    "colab": {
     "base_uri": "https://localhost:8080/"
    },
    "id": "F2PqxLHRpEGa",
    "outputId": "e67b206b-a7b9-4e6f-fab1-b1ba539c8e95"
   },
   "outputs": [],
   "source": [
    "pred = model.predict(X_test)\n",
    "pred  = [1 if y>=0.5 else 0 for y in pred] #Threshold\n",
    "print(classification_report(y_test ,pred ))\n",
    "print('Confusion Matrix: \\n',confusion_matrix(y_test,pred))\n",
    "print()\n",
    "print('Accuracy: ', accuracy_score(y_test,pred))\n",
    "print()"
   ]
  },
  {
   "cell_type": "code",
   "execution_count": null,
   "metadata": {
    "colab": {
     "base_uri": "https://localhost:8080/"
    },
    "id": "0ihECbOPpN8W",
    "outputId": "fede39ae-ef25-4822-8276-9a6027eb5b8a",
    "scrolled": true
   },
   "outputs": [],
   "source": [
    "model.evaluate(X_test, y_test)[1]"
   ]
  },
  {
   "cell_type": "markdown",
   "metadata": {},
   "source": [
    "# Artificial neural network [different layers 64,32,16 ,1]"
   ]
  },
  {
   "cell_type": "code",
   "execution_count": null,
   "metadata": {},
   "outputs": [],
   "source": []
  },
  {
   "cell_type": "code",
   "execution_count": null,
   "metadata": {},
   "outputs": [],
   "source": [
    "df = pd.read_csv(\"./train-io.txt\", header=None, delimiter=' ')"
   ]
  },
  {
   "cell_type": "code",
   "execution_count": null,
   "metadata": {},
   "outputs": [],
   "source": [
    "y=df.pop(12)\n",
    "x=df"
   ]
  },
  {
   "cell_type": "code",
   "execution_count": null,
   "metadata": {},
   "outputs": [],
   "source": [
    "X_train, X_test, y_train, y_test = train_test_split(x, y, test_size=0.2, random_state = 4)"
   ]
  },
  {
   "cell_type": "code",
   "execution_count": null,
   "metadata": {},
   "outputs": [],
   "source": [
    "model = Sequential([\n",
    "    Dense(64, activation='relu', input_shape=( 12 ,)),\n",
    "    Dense(32, activation='relu'),\n",
    "    Dense(16, activation='relu'),\n",
    "    Dense(1, activation='sigmoid')\n",
    "])"
   ]
  },
  {
   "cell_type": "code",
   "execution_count": null,
   "metadata": {},
   "outputs": [],
   "source": [
    "model.compile(optimizer='adam',\n",
    "              loss='binary_crossentropy',\n",
    "              metrics=['accuracy'])"
   ]
  },
  {
   "cell_type": "code",
   "execution_count": null,
   "metadata": {},
   "outputs": [],
   "source": [
    "es = EarlyStopping(monitor='val_loss', mode='min',patience=5)\n",
    "hist = model.fit(X_train, y_train,\n",
    "          batch_size=20, epochs=50, validation_split=0.2,callbacks=[es])"
   ]
  },
  {
   "cell_type": "code",
   "execution_count": null,
   "metadata": {},
   "outputs": [],
   "source": [
    "#visualize the training loss and the validation loss to see if the model is overfitting\n",
    "plt.plot(hist.history['loss'])\n",
    "plt.plot(hist.history['val_loss'])\n",
    "plt.title('Model loss')\n",
    "plt.ylabel('Loss')\n",
    "plt.xlabel('Epoch')\n",
    "plt.legend(['Train', 'Val'], loc='upper right')\n",
    "plt.show()"
   ]
  },
  {
   "cell_type": "code",
   "execution_count": null,
   "metadata": {},
   "outputs": [],
   "source": [
    "#visualize the training accuracy and the validation accuracy to see if the model is overfitting\n",
    "plt.plot(hist.history['accuracy'])\n",
    "plt.plot(hist.history['val_accuracy'])\n",
    "plt.title('Model accuracy')\n",
    "plt.ylabel('Accuracy')\n",
    "plt.xlabel('Epoch')\n",
    "plt.legend(['Train', 'Val'], loc='lower right')\n",
    "plt.show()"
   ]
  },
  {
   "cell_type": "code",
   "execution_count": null,
   "metadata": {},
   "outputs": [],
   "source": [
    "#Make a prediction & print the actual values\n",
    "prediction = model.predict(X_test)\n",
    "prediction  = [1 if y>=0.5 else 0 for y in prediction] #Threshold\n",
    "print(prediction)\n",
    "print(y_test)"
   ]
  },
  {
   "cell_type": "code",
   "execution_count": null,
   "metadata": {},
   "outputs": [],
   "source": [
    "pred = model.predict(X_train)\n",
    "pred  = [1 if y>=0.5 else 0 for y in pred] #Threshold\n",
    "print(classification_report(y_train ,pred ))\n",
    "print('Confusion Matrix: \\n',confusion_matrix(y_train,pred))\n",
    "print()\n",
    "print('Accuracy: ', accuracy_score(y_train,pred))\n",
    "print()"
   ]
  },
  {
   "cell_type": "code",
   "execution_count": null,
   "metadata": {},
   "outputs": [],
   "source": [
    "model.evaluate(X_test, y_test)[1]"
   ]
  },
  {
   "cell_type": "code",
   "execution_count": null,
   "metadata": {},
   "outputs": [],
   "source": [
    "test_in = pd.read_csv(\"./test-in.txt\", header=None, delimiter=' ')"
   ]
  },
  {
   "cell_type": "code",
   "execution_count": null,
   "metadata": {},
   "outputs": [],
   "source": [
    "#Make a prediction & print the actual values\n",
    "prediction = model.predict(test_in)\n",
    "prediction  = [1 if y>=0.5 else 0 for y in prediction] #Threshold\n",
    "print(prediction)\n"
   ]
  },
  {
   "cell_type": "markdown",
   "metadata": {},
   "source": [
    "# Artificial neural network 7 layers nodes[64,32,16,8,4,2,1]"
   ]
  },
  {
   "cell_type": "code",
   "execution_count": null,
   "metadata": {},
   "outputs": [],
   "source": [
    "df = pd.read_csv(\"./train-io.txt\", header=None, delimiter=' ')"
   ]
  },
  {
   "cell_type": "code",
   "execution_count": null,
   "metadata": {},
   "outputs": [],
   "source": [
    "y=df.pop(12)\n",
    "x=df"
   ]
  },
  {
   "cell_type": "code",
   "execution_count": null,
   "metadata": {},
   "outputs": [],
   "source": [
    "X_train, X_test, y_train, y_test = train_test_split(x, y, test_size=0.2, random_state = 4)"
   ]
  },
  {
   "cell_type": "code",
   "execution_count": null,
   "metadata": {},
   "outputs": [],
   "source": [
    "model = Sequential([\n",
    "    Dense(64, activation='relu', input_shape=( 12 ,)),\n",
    "    Dense(32, activation='relu'),\n",
    "    Dense(16, activation='relu'),\n",
    "    Dense(8, activation='relu'),\n",
    "    Dense(4, activation='relu'),\n",
    "    Dense(2, activation='relu'),\n",
    "    Dense(1, activation='sigmoid')\n",
    "])"
   ]
  },
  {
   "cell_type": "code",
   "execution_count": null,
   "metadata": {},
   "outputs": [],
   "source": [
    "model.compile(optimizer='sgd',\n",
    "              loss='binary_crossentropy',\n",
    "              metrics=['accuracy'])"
   ]
  },
  {
   "cell_type": "code",
   "execution_count": null,
   "metadata": {},
   "outputs": [],
   "source": [
    "es = EarlyStopping(monitor='val_loss', mode='min',patience=5)\n",
    "hist = model.fit(X_train, y_train,\n",
    "          batch_size=50, epochs=50, validation_split=0.2,callbacks=[es])"
   ]
  },
  {
   "cell_type": "code",
   "execution_count": null,
   "metadata": {},
   "outputs": [],
   "source": [
    "#visualize the training loss and the validation loss to see if the model is overfitting\n",
    "plt.plot(hist.history['loss'])\n",
    "plt.plot(hist.history['val_loss'])\n",
    "plt.title('Model loss')\n",
    "plt.ylabel('Loss')\n",
    "plt.xlabel('Epoch')\n",
    "plt.legend(['Train', 'Val'], loc='upper right')\n",
    "plt.show()"
   ]
  },
  {
   "cell_type": "code",
   "execution_count": null,
   "metadata": {},
   "outputs": [],
   "source": [
    "#visualize the training accuracy and the validation accuracy to see if the model is overfitting\n",
    "plt.plot(hist.history['accuracy'])\n",
    "plt.plot(hist.history['val_accuracy'])\n",
    "plt.title('Model accuracy')\n",
    "plt.ylabel('Accuracy')\n",
    "plt.xlabel('Epoch')\n",
    "plt.legend(['Train', 'Val'], loc='lower right')\n",
    "plt.show()"
   ]
  },
  {
   "cell_type": "code",
   "execution_count": null,
   "metadata": {},
   "outputs": [],
   "source": [
    "#Make a prediction & print the actual values\n",
    "prediction = model.predict(X_test)\n",
    "prediction  = [1 if y>=0.5 else 0 for y in prediction] #Threshold\n",
    "print(prediction)\n",
    "print(y_test)"
   ]
  },
  {
   "cell_type": "code",
   "execution_count": null,
   "metadata": {},
   "outputs": [],
   "source": [
    "pred = model.predict(X_train)\n",
    "pred  = [1 if y>=0.5 else 0 for y in pred] #Threshold\n",
    "print(classification_report(y_train ,pred ))\n",
    "print('Confusion Matrix: \\n',confusion_matrix(y_train,pred))\n",
    "print()\n",
    "print('Accuracy: ', accuracy_score(y_train,pred))\n",
    "print()"
   ]
  },
  {
   "cell_type": "code",
   "execution_count": null,
   "metadata": {},
   "outputs": [],
   "source": [
    "model.evaluate(X_test, y_test)[1]"
   ]
  },
  {
   "cell_type": "markdown",
   "metadata": {},
   "source": [
    "# Artificial nn with 4 layers with nodes[60,30,15,1]"
   ]
  },
  {
   "cell_type": "code",
   "execution_count": null,
   "metadata": {},
   "outputs": [],
   "source": [
    "df = pd.read_csv(\"./train-io.txt\", header=None, delimiter=' ')"
   ]
  },
  {
   "cell_type": "code",
   "execution_count": null,
   "metadata": {},
   "outputs": [],
   "source": [
    "y=df.pop(12)\n",
    "x=df"
   ]
  },
  {
   "cell_type": "code",
   "execution_count": null,
   "metadata": {},
   "outputs": [],
   "source": [
    "X_train, X_test, y_train, y_test = train_test_split(x,y, test_size=0.2, random_state = 4)"
   ]
  },
  {
   "cell_type": "code",
   "execution_count": null,
   "metadata": {},
   "outputs": [],
   "source": [
    "ele = [X_train, X_test, y_train, y_test]\n",
    "for element in ele:\n",
    "    print(element.shape)"
   ]
  },
  {
   "cell_type": "code",
   "execution_count": null,
   "metadata": {},
   "outputs": [],
   "source": [
    "model = Sequential([\n",
    "    Dense(60, activation='relu', input_dim=12 ),\n",
    "    Dense(30, activation='relu'),\n",
    "    Dense(15, activation='relu'),\n",
    "    Dense(1, activation='sigmoid')\n",
    "])"
   ]
  },
  {
   "cell_type": "code",
   "execution_count": null,
   "metadata": {},
   "outputs": [],
   "source": [
    "model.compile(optimizer='adam',\n",
    "              loss='binary_crossentropy',\n",
    "              metrics=['accuracy'])"
   ]
  },
  {
   "cell_type": "code",
   "execution_count": null,
   "metadata": {},
   "outputs": [],
   "source": [
    "es = EarlyStopping(monitor='val_loss', mode='min',patience=5)\n",
    "hist = model.fit(X_train, y_train,\n",
    "          batch_size=20, epochs=50, validation_split=0.2,callbacks=[es])"
   ]
  },
  {
   "cell_type": "code",
   "execution_count": null,
   "metadata": {
    "scrolled": true
   },
   "outputs": [],
   "source": [
    "#visualize the training loss and the validation loss to see if the model is overfitting\n",
    "plt.plot(hist.history['loss'])\n",
    "plt.plot(hist.history['val_loss'])\n",
    "plt.title('Model loss')\n",
    "plt.ylabel('Loss')\n",
    "plt.xlabel('Epoch')\n",
    "plt.legend(['Train', 'Val'], loc='upper right')\n",
    "plt.show()"
   ]
  },
  {
   "cell_type": "code",
   "execution_count": null,
   "metadata": {},
   "outputs": [],
   "source": [
    "#visualize the training accuracy and the validation accuracy to see if the model is overfitting\n",
    "plt.plot(hist.history['accuracy'])\n",
    "plt.plot(hist.history['val_accuracy'])\n",
    "plt.title('Model accuracy')\n",
    "plt.ylabel('Accuracy')\n",
    "plt.xlabel('Epoch')\n",
    "plt.legend(['Train', 'Val'], loc='lower right')\n",
    "plt.show()"
   ]
  },
  {
   "cell_type": "code",
   "execution_count": null,
   "metadata": {},
   "outputs": [],
   "source": [
    "#Make a prediction & print the actual values\n",
    "prediction = model.predict(X_test)\n",
    "prediction  = [1 if y>=0.5 else 0 for y in prediction] #Threshold\n",
    "print(prediction)\n",
    "print(y_test)"
   ]
  },
  {
   "cell_type": "code",
   "execution_count": null,
   "metadata": {},
   "outputs": [],
   "source": [
    "pred = model.predict(X_train)\n",
    "pred  = [1 if y>=0.5 else 0 for y in pred] #Threshold\n",
    "print(classification_report(y_train ,pred ))\n",
    "print('Confusion Matrix: \\n',confusion_matrix(y_train,pred))\n",
    "print()\n",
    "print('Accuracy: ', accuracy_score(y_train,pred))\n",
    "print()"
   ]
  },
  {
   "cell_type": "code",
   "execution_count": null,
   "metadata": {},
   "outputs": [],
   "source": [
    "model.evaluate(X_test, y_test)[1]"
   ]
  },
  {
   "cell_type": "code",
   "execution_count": null,
   "metadata": {},
   "outputs": [],
   "source": [
    "#reading test file\n",
    "test_in = pd.read_csv(\"./test-in.txt\", header=None, delimiter=' ')\n",
    "#Make a prediction & print the actual values\n",
    "prediction = model.predict(test_in)\n",
    "prediction  = [1 if y>=0.5 else 0 for y in prediction] #Threshold\n",
    "print(prediction)"
   ]
  },
  {
   "cell_type": "code",
   "execution_count": null,
   "metadata": {},
   "outputs": [],
   "source": [
    "pd.DataFrame(prediction).to_csv(\"test-out.txt\", header=None, index=False)"
   ]
  }
 ],
 "metadata": {
  "accelerator": "GPU",
  "colab": {
   "collapsed_sections": [],
   "name": "AllModels.ipynb",
   "provenance": [],
   "toc_visible": true
  },
  "kernelspec": {
   "display_name": "Python 3",
   "language": "python",
   "name": "python3"
  },
  "language_info": {
   "codemirror_mode": {
    "name": "ipython",
    "version": 3
   },
   "file_extension": ".py",
   "mimetype": "text/x-python",
   "name": "python",
   "nbconvert_exporter": "python",
   "pygments_lexer": "ipython3",
   "version": "3.8.6"
  }
 },
 "nbformat": 4,
 "nbformat_minor": 4
}
